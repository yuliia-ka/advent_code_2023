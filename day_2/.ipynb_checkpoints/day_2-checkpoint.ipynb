{
 "cells": [
  {
   "cell_type": "code",
   "execution_count": 1,
   "id": "75c40251",
   "metadata": {},
   "outputs": [
    {
     "data": {
      "text/plain": [
       "['Game 1: 12 blue, 15 red, 2 green; 17 red, 8 green, 5 blue; 8 red, 17 blue; 9 green, 1 blue, 4 red\\n',\n",
       " 'Game 2: 6 red, 6 blue, 2 green; 1 blue, 1 red; 6 green, 1 red, 10 blue\\n',\n",
       " 'Game 3: 1 green, 2 blue; 7 blue, 4 green; 2 green, 1 blue; 10 blue, 4 green; 4 blue; 1 green, 7 blue, 1 red\\n',\n",
       " 'Game 4: 16 red, 12 blue, 10 green; 15 red, 5 green, 6 blue; 10 green, 15 red, 12 blue\\n',\n",
       " 'Game 5: 2 green, 2 red, 9 blue; 1 red, 5 green; 4 green, 12 blue, 1 red; 5 blue, 8 green\\n',\n",
       " 'Game 6: 17 blue, 3 green, 4 red; 6 green, 16 blue, 3 red; 2 red, 15 blue\\n',\n",
       " 'Game 7: 4 green, 10 red; 1 green, 4 red, 4 blue; 4 blue, 11 red\\n',\n",
       " 'Game 8: 8 green, 4 blue; 17 green, 4 red; 10 blue, 5 green, 9 red; 9 green, 8 red, 3 blue; 9 green, 5 red, 2 blue\\n',\n",
       " 'Game 9: 4 red, 2 green; 7 blue, 3 red, 3 green; 3 green, 7 blue, 3 red\\n',\n",
       " 'Game 10: 3 green, 2 red, 2 blue; 3 green, 11 red, 1 blue; 16 green, 11 red\\n']"
      ]
     },
     "execution_count": 1,
     "metadata": {},
     "output_type": "execute_result"
    }
   ],
   "source": [
    "with open('input_string.txt') as f:\n",
    "    input_lines = f.readlines()\n",
    "input_lines[:10]"
   ]
  },
  {
   "cell_type": "code",
   "execution_count": 2,
   "id": "2ad73f68",
   "metadata": {},
   "outputs": [
    {
     "data": {
      "text/plain": [
       "['Game 1: 12 blue, 15 red, 2 green; 17 red, 8 green, 5 blue; 8 red, 17 blue; 9 green, 1 blue, 4 red',\n",
       " 'Game 2: 6 red, 6 blue, 2 green; 1 blue, 1 red; 6 green, 1 red, 10 blue',\n",
       " 'Game 3: 1 green, 2 blue; 7 blue, 4 green; 2 green, 1 blue; 10 blue, 4 green; 4 blue; 1 green, 7 blue, 1 red',\n",
       " 'Game 4: 16 red, 12 blue, 10 green; 15 red, 5 green, 6 blue; 10 green, 15 red, 12 blue',\n",
       " 'Game 5: 2 green, 2 red, 9 blue; 1 red, 5 green; 4 green, 12 blue, 1 red; 5 blue, 8 green',\n",
       " 'Game 6: 17 blue, 3 green, 4 red; 6 green, 16 blue, 3 red; 2 red, 15 blue',\n",
       " 'Game 7: 4 green, 10 red; 1 green, 4 red, 4 blue; 4 blue, 11 red',\n",
       " 'Game 8: 8 green, 4 blue; 17 green, 4 red; 10 blue, 5 green, 9 red; 9 green, 8 red, 3 blue; 9 green, 5 red, 2 blue',\n",
       " 'Game 9: 4 red, 2 green; 7 blue, 3 red, 3 green; 3 green, 7 blue, 3 red',\n",
       " 'Game 10: 3 green, 2 red, 2 blue; 3 green, 11 red, 1 blue; 16 green, 11 red']"
      ]
     },
     "execution_count": 2,
     "metadata": {},
     "output_type": "execute_result"
    }
   ],
   "source": [
    "input_lines = [a.replace('\\n','') for a in input_lines ]\n",
    "input_lines[:10]"
   ]
  },
  {
   "cell_type": "code",
   "execution_count": 3,
   "id": "0cb88663",
   "metadata": {},
   "outputs": [],
   "source": [
    "# condition is 12 red cubes, 13 green cubes, and 14 blue cubes"
   ]
  },
  {
   "cell_type": "code",
   "execution_count": 11,
   "id": "4175e732",
   "metadata": {},
   "outputs": [],
   "source": [
    "import re"
   ]
  },
  {
   "cell_type": "code",
   "execution_count": 19,
   "id": "eccfa585",
   "metadata": {},
   "outputs": [
    {
     "ename": "TypeError",
     "evalue": "'NoneType' object is not subscriptable",
     "output_type": "error",
     "traceback": [
      "\u001b[1;31m---------------------------------------------------------------------------\u001b[0m",
      "\u001b[1;31mTypeError\u001b[0m                                 Traceback (most recent call last)",
      "Cell \u001b[1;32mIn[19], line 1\u001b[0m\n\u001b[1;32m----> 1\u001b[0m \u001b[38;5;28mint\u001b[39m(re\u001b[38;5;241m.\u001b[39msearch(\u001b[38;5;124m'\u001b[39m\u001b[38;5;124m\\\u001b[39m\u001b[38;5;124md\u001b[39m\u001b[38;5;124m{\u001b[39m\u001b[38;5;124m1,2}(\u001b[39m\u001b[38;5;124m\\\u001b[39m\u001b[38;5;124msblue)\u001b[39m\u001b[38;5;124m'\u001b[39m,\u001b[38;5;124m'\u001b[39m\u001b[38;5;124m12 tellow, 15 red, 2 green\u001b[39m\u001b[38;5;124m'\u001b[39m)[\u001b[38;5;241m0\u001b[39m]\u001b[38;5;241m.\u001b[39msplit(\u001b[38;5;124m'\u001b[39m\u001b[38;5;124m \u001b[39m\u001b[38;5;124m'\u001b[39m)[\u001b[38;5;241m0\u001b[39m])\n",
      "\u001b[1;31mTypeError\u001b[0m: 'NoneType' object is not subscriptable"
     ]
    }
   ],
   "source": [
    "int(re.search('\\d{1,2}(\\sblue)','12 tellow, 15 red, 2 green')[0].split(' ')[0])"
   ]
  },
  {
   "cell_type": "code",
   "execution_count": 23,
   "id": "070aeb50",
   "metadata": {},
   "outputs": [],
   "source": [
    "def feasible(elem):\n",
    "       \n",
    "    for round_single in elem:     \n",
    "        \n",
    "        blue_num = int(re.search('\\d{1,2}(\\sblue)',round_single)[0].split(' ')[0]) if 'blue' in round_single else 0\n",
    "        red_num = int(re.search('\\d{1,2}(\\sred)',round_single)[0].split(' ')[0]) if 'red' in round_single else 0\n",
    "        green_num = int(re.search('\\d{1,2}(\\sgreen)',round_single)[0].split(' ')[0]) if 'green' in round_single else 0\n",
    "        \n",
    "        x = ((blue_num<15) and (red_num<13) and (green_num<14))\n",
    "        \n",
    "        if not x: \n",
    "            return(False)\n",
    "        \n",
    "    return(True)"
   ]
  },
  {
   "cell_type": "code",
   "execution_count": 30,
   "id": "770fba51",
   "metadata": {},
   "outputs": [
    {
     "data": {
      "text/plain": [
       "2716"
      ]
     },
     "execution_count": 30,
     "metadata": {},
     "output_type": "execute_result"
    }
   ],
   "source": [
    "total = 0\n",
    "\n",
    "for i in input_lines:\n",
    "    i = i.replace('Game ','')\n",
    "    dig, game = i.split(': ')\n",
    "    #print(dig, game)\n",
    "    round_seq =  game.split('; ')\n",
    "    decision = feasible(round_seq)\n",
    "    if decision:\n",
    "        total = total + int(dig)\n",
    "\n",
    "total \n",
    "    "
   ]
  },
  {
   "cell_type": "code",
   "execution_count": 37,
   "id": "800bc6de",
   "metadata": {},
   "outputs": [],
   "source": [
    "# task 2\n",
    "\n",
    "def power_set(elem):\n",
    "    blue_max = 0\n",
    "    red_max = 0\n",
    "    green_max = 0\n",
    "       \n",
    "    for round_single in elem:     \n",
    "        \n",
    "        blue_num = int(re.search('\\d{1,2}(\\sblue)',round_single)[0].split(' ')[0]) if 'blue' in round_single else 0\n",
    "        red_num = int(re.search('\\d{1,2}(\\sred)',round_single)[0].split(' ')[0]) if 'red' in round_single else 0\n",
    "        green_num = int(re.search('\\d{1,2}(\\sgreen)',round_single)[0].split(' ')[0]) if 'green' in round_single else 0\n",
    "        \n",
    "        blue_max = max(blue_max, blue_num)\n",
    "        red_max = max(red_max, red_num)\n",
    "        green_max = max(green_max, green_num)\n",
    "        \n",
    "    return(blue_max*red_max*green_max)"
   ]
  },
  {
   "cell_type": "code",
   "execution_count": 38,
   "id": "987f0449",
   "metadata": {},
   "outputs": [
    {
     "data": {
      "text/plain": [
       "72227"
      ]
     },
     "execution_count": 38,
     "metadata": {},
     "output_type": "execute_result"
    }
   ],
   "source": [
    "total = 0\n",
    "\n",
    "for i in input_lines:\n",
    "    i = i.replace('Game ','')\n",
    "    dig, game = i.split(': ')\n",
    "    #print(dig, game)\n",
    "    round_seq =  game.split('; ')\n",
    "    multiplication = power_set(round_seq)\n",
    "    total = total + multiplication\n",
    "\n",
    "total \n",
    "    "
   ]
  }
 ],
 "metadata": {
  "kernelspec": {
   "display_name": "Python 3 (ipykernel)",
   "language": "python",
   "name": "python3"
  },
  "language_info": {
   "codemirror_mode": {
    "name": "ipython",
    "version": 3
   },
   "file_extension": ".py",
   "mimetype": "text/x-python",
   "name": "python",
   "nbconvert_exporter": "python",
   "pygments_lexer": "ipython3",
   "version": "3.11.5"
  }
 },
 "nbformat": 4,
 "nbformat_minor": 5
}
