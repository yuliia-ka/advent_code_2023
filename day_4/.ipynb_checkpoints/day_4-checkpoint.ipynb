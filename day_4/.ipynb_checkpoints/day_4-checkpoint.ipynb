{
 "cells": [
  {
   "cell_type": "code",
   "execution_count": 1,
   "metadata": {},
   "outputs": [],
   "source": [
    "import pandas as pd\n",
    "import numpy as np"
   ]
  },
  {
   "cell_type": "code",
   "execution_count": 73,
   "metadata": {},
   "outputs": [
    {
     "data": {
      "text/plain": [
       "['Card 1: 41 48 83 86 17 | 83 86  6 31 17  9 48 53',\n",
       " 'Card 2: 13 32 20 16 61 | 61 30 68 82 17 32 24 19',\n",
       " 'Card 3:  1 21 53 59 44 | 69 82 63 72 16 21 14  1',\n",
       " 'Card 4: 41 92 73 84 69 | 59 84 76 51 58  5 54 83',\n",
       " 'Card 5: 87 83 26 28 32 | 88 30 70 12 93 22 82 36',\n",
       " 'Card 6: 31 18 13 56 72 | 74 77 10 23 35 67 36 11']"
      ]
     },
     "execution_count": 73,
     "metadata": {},
     "output_type": "execute_result"
    }
   ],
   "source": [
    "with open('small_input.txt') as f:\n",
    "    input_lines = f.readlines()\n",
    "input_lines[:10]\n",
    "\n",
    "input_lines = [a.replace('\\n','') for a in input_lines ]\n",
    "input_lines[:10]"
   ]
  },
  {
   "cell_type": "code",
   "execution_count": 74,
   "metadata": {},
   "outputs": [],
   "source": [
    "input_lines = [a.replace('Card ','') for a in input_lines]\n",
    "input_lines = [a.split(': ') for a in input_lines]\n",
    "input_lines = {a:b.split(' | ') for a,b in input_lines}"
   ]
  },
  {
   "cell_type": "code",
   "execution_count": 75,
   "metadata": {},
   "outputs": [],
   "source": [
    "for k,v in input_lines.items():\n",
    "    #for a,b in v:\n",
    "    #print(v[0].replace('  ',' ').split(' '))\n",
    "    #print(v[1].replace('  ',' ').split(' '))\n",
    "    c = [v[0].replace('  ',' ').split(' '),v[1].replace('  ',' ').split(' ')]\n",
    "    input_lines[k] = c\n",
    "    #print(c)\n",
    "\n",
    "#for k,v in input_lines.items():\n",
    "#    input_lines[k] = 1*(2**(len([value for value in input_lines[k][0] if value in input_lines[k][1]])-1))\n",
    "    \n"
   ]
  },
  {
   "cell_type": "code",
   "execution_count": 77,
   "metadata": {},
   "outputs": [],
   "source": [
    "for k,v in input_lines.items():\n",
    "    input_lines[k] = [value for value in input_lines[k][0] if value in input_lines[k][1]]\n",
    "    "
   ]
  },
  {
   "cell_type": "code",
   "execution_count": 79,
   "metadata": {},
   "outputs": [
    {
     "data": {
      "text/plain": [
       "{'1': ['48', '83', '86', '17'],\n",
       " '2': ['32', '61'],\n",
       " '3': ['1', '21'],\n",
       " '4': ['84'],\n",
       " '5': [],\n",
       " '6': []}"
      ]
     },
     "execution_count": 79,
     "metadata": {},
     "output_type": "execute_result"
    }
   ],
   "source": [
    "input_lines"
   ]
  },
  {
   "cell_type": "code",
   "execution_count": 80,
   "metadata": {},
   "outputs": [
    {
     "data": {
      "text/plain": [
       "{'1': 4, '2': 2, '3': 2, '4': 1, '5': 0, '6': 0}"
      ]
     },
     "execution_count": 80,
     "metadata": {},
     "output_type": "execute_result"
    }
   ],
   "source": [
    "for k,v in input_lines.items():\n",
    "    input_lines[k] = len(v)\n",
    "    \n",
    "input_lines"
   ]
  },
  {
   "cell_type": "code",
   "execution_count": null,
   "metadata": {},
   "outputs": [],
   "source": [
    "input_lines_n={}\n",
    "for k,v in input_lines.items():\n",
    "    input_lines_n[k] = len(v)\n",
    "    \n",
    "input_lines_n"
   ]
  },
  {
   "cell_type": "code",
   "execution_count": 72,
   "metadata": {},
   "outputs": [
    {
     "data": {
      "text/plain": [
       "[8, 2, 2, 1, 0.5, 0.5]"
      ]
     },
     "execution_count": 72,
     "metadata": {},
     "output_type": "execute_result"
    }
   ],
   "source": [
    "keys = list(input_lines.values())\n",
    "sum(keys)\n",
    "keys\n",
    "#sum([0 if x==0.5 else x for x in keys])"
   ]
  }
 ],
 "metadata": {
  "kernelspec": {
   "display_name": "Python 3 (ipykernel)",
   "language": "python",
   "name": "python3"
  },
  "language_info": {
   "codemirror_mode": {
    "name": "ipython",
    "version": 3
   },
   "file_extension": ".py",
   "mimetype": "text/x-python",
   "name": "python",
   "nbconvert_exporter": "python",
   "pygments_lexer": "ipython3",
   "version": "3.11.5"
  }
 },
 "nbformat": 4,
 "nbformat_minor": 2
}
