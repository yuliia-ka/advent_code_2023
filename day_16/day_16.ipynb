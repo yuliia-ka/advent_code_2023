{
 "cells": [
  {
   "cell_type": "code",
   "execution_count": 4,
   "metadata": {},
   "outputs": [
    {
     "data": {
      "text/plain": [
       "[['.', '|', '.', '.', '.', '\\\\', '.', '.', '.', '.'],\n",
       " ['|', '.', '-', '.', '\\\\', '.', '.', '.', '.', '.'],\n",
       " ['.', '.', '.', '.', '.', '|', '-', '.', '.', '.'],\n",
       " ['.', '.', '.', '.', '.', '.', '.', '.', '|', '.'],\n",
       " ['.', '.', '.', '.', '.', '.', '.', '.', '.', '.'],\n",
       " ['.', '.', '.', '.', '.', '.', '.', '.', '.', '\\\\'],\n",
       " ['.', '.', '.', '.', '/', '.', '\\\\', '\\\\', '.', '.'],\n",
       " ['.', '-', '.', '-', '/', '.', '.', '|', '.', '.'],\n",
       " ['.', '|', '.', '.', '.', '.', '-', '|', '.', '\\\\'],\n",
       " ['.', '.', '/', '/', '.', '|', '.', '.', '.', '.']]"
      ]
     },
     "execution_count": 4,
     "metadata": {},
     "output_type": "execute_result"
    }
   ],
   "source": [
    "import numpy as np\n",
    "\n",
    "with open('small_input.txt') as f:\n",
    "    input_lines = f.readlines()\n",
    "\n",
    "input_lines = np.array([[a.replace('\\n','')] for a in input_lines ])\n",
    "\n",
    "input_lines = [[*a[0]] for a in input_lines]\n",
    "\n",
    "input_lines"
   ]
  },
  {
   "cell_type": "code",
   "execution_count": 45,
   "metadata": {},
   "outputs": [],
   "source": [
    "# Particle is a coordinate + directions\n",
    "from dataclasses import dataclass \n",
    "from typing import Tuple\n",
    "\n",
    "@dataclass(frozen=True)\n",
    "class Particle:\n",
    "\tposition: Tuple[int, int]\n",
    "\tdirection: Tuple[int, int]\n",
    "\n",
    "my_particle = Particle((0, 5), (1, 0))"
   ]
  },
  {
   "cell_type": "code",
   "execution_count": 41,
   "metadata": {},
   "outputs": [],
   "source": [
    "def next_step(arr,curr_particle):\n",
    "  next_coors = (curr_particle.position[0]+curr_particle.direction[0],curr_particle.position[1]+curr_particle.direction[1])\n",
    "  device = arr[next_coors[0]][next_coors[1]]\n",
    "  if device =='.':\n",
    "    new_particle = {Particle(next_coors, curr_particle.direction)}\n",
    "\n",
    "  if (device=='|' and curr_particle.direction[0]!=0) | (device=='-' and curr_particle.direction[1]!=0):\n",
    "    new_particle = {Particle((next_coors[0]+curr_particle.direction[0],next_coors[1]+curr_particle.direction[1]), curr_particle.direction)}\n",
    "  \n",
    "\n",
    "  if (device=='|' and curr_particle.direction[0]==0)|(device=='-' and curr_particle.direction[1]==0):\n",
    "    new_particle = {Particle((next_coors[0]-1,next_coors[1]), (-1,0)),Particle((next_coors[0]+1,next_coors[1]), (1,0))}\n",
    "\n",
    "  if (device=='-' and curr_particle.direction[1]==0):\n",
    "    new_particle = {Particle((next_coors[0],next_coors[1]-1), (0,-1)),Particle((next_coors[0],next_coors[1])+1, (0,1))}\n",
    "\n",
    "  new_particle |= {Particle(next_coors, curr_particle.direction)}\n",
    "  return new_particle"
   ]
  },
  {
   "cell_type": "code",
   "execution_count": 42,
   "metadata": {},
   "outputs": [
    {
     "data": {
      "text/plain": [
       "{Particle(position=(0, 0), direction=(0, 1))}"
      ]
     },
     "execution_count": 42,
     "metadata": {},
     "output_type": "execute_result"
    }
   ],
   "source": [
    "next_step(input_lines,Particle((0,-1),(0,1)))"
   ]
  },
  {
   "cell_type": "code",
   "execution_count": null,
   "metadata": {},
   "outputs": [],
   "source": [
    "seen_particles = []\n",
    "\n",
    "while len(set(seen_particles))==(len(seen_particles)):\n",
    "  next_steps = next_step(input_lines,my_particle)\n",
    "  next_particle = Particle(next_steps[0],next_steps[1])\n",
    "  seen_particles.append(next_particle)\n",
    "  my_particle = next_particle\n",
    "  print(my_particle)"
   ]
  }
 ],
 "metadata": {
  "kernelspec": {
   "display_name": "Python 3",
   "language": "python",
   "name": "python3"
  },
  "language_info": {
   "codemirror_mode": {
    "name": "ipython",
    "version": 3
   },
   "file_extension": ".py",
   "mimetype": "text/x-python",
   "name": "python",
   "nbconvert_exporter": "python",
   "pygments_lexer": "ipython3",
   "version": "3.11.8"
  }
 },
 "nbformat": 4,
 "nbformat_minor": 2
}
