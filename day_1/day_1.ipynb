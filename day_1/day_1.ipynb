{
 "cells": [
  {
   "cell_type": "code",
   "execution_count": 1,
   "id": "5b0978f3",
   "metadata": {},
   "outputs": [],
   "source": [
    "import pandas"
   ]
  },
  {
   "cell_type": "code",
   "execution_count": 191,
   "id": "41d3167a",
   "metadata": {},
   "outputs": [
    {
     "data": {
      "text/plain": [
       "['fivethreeonezblqnsfk1\\n',\n",
       " 'two74119onebtqgnine\\n',\n",
       " 'jrjh5vsrxbhsfour3\\n',\n",
       " 'tn5eightfncnzcdtthree8\\n',\n",
       " 'kpmrk5flx\\n',\n",
       " 'fkxxqxdfsixgthreepvzjxrkcfk6twofour\\n',\n",
       " 'dqbx6six5twoone\\n',\n",
       " 'glmsckj2bvmts1spctnjrtqhmbxzq\\n',\n",
       " '7sixthreerzmpbffcx\\n',\n",
       " 'zhss9gfxfgmrmzthreefivevpkljfourtwoeight\\n']"
      ]
     },
     "execution_count": 191,
     "metadata": {},
     "output_type": "execute_result"
    }
   ],
   "source": [
    "with open('input_string.txt') as f:\n",
    "    input_lines = f.readlines()\n",
    "input_lines[:10]"
   ]
  },
  {
   "cell_type": "code",
   "execution_count": 192,
   "id": "53af1ca2",
   "metadata": {},
   "outputs": [
    {
     "data": {
      "text/plain": [
       "['fivethreeonezblqnsfk1',\n",
       " 'two74119onebtqgnine',\n",
       " 'jrjh5vsrxbhsfour3',\n",
       " 'tn5eightfncnzcdtthree8',\n",
       " 'kpmrk5flx',\n",
       " 'fkxxqxdfsixgthreepvzjxrkcfk6twofour',\n",
       " 'dqbx6six5twoone',\n",
       " 'glmsckj2bvmts1spctnjrtqhmbxzq',\n",
       " '7sixthreerzmpbffcx',\n",
       " 'zhss9gfxfgmrmzthreefivevpkljfourtwoeight']"
      ]
     },
     "execution_count": 192,
     "metadata": {},
     "output_type": "execute_result"
    }
   ],
   "source": [
    "input_lines = [a.replace('\\n','') for a in input_lines ]\n",
    "input_lines[:10]"
   ]
  },
  {
   "cell_type": "code",
   "execution_count": 18,
   "id": "a60dd0bd",
   "metadata": {},
   "outputs": [],
   "source": [
    "trial_string = input_lines[0]"
   ]
  },
  {
   "cell_type": "code",
   "execution_count": 12,
   "id": "53eceb81",
   "metadata": {},
   "outputs": [],
   "source": [
    "import re"
   ]
  },
  {
   "cell_type": "code",
   "execution_count": 19,
   "id": "29e8607f",
   "metadata": {},
   "outputs": [
    {
     "data": {
      "text/plain": [
       "20"
      ]
     },
     "execution_count": 19,
     "metadata": {},
     "output_type": "execute_result"
    }
   ],
   "source": [
    "m = re.search(r\"\\d\", trial_string)\n",
    "m.start()"
   ]
  },
  {
   "cell_type": "code",
   "execution_count": 20,
   "id": "341034b5",
   "metadata": {},
   "outputs": [
    {
     "data": {
      "text/plain": [
       "20"
      ]
     },
     "execution_count": 20,
     "metadata": {},
     "output_type": "execute_result"
    }
   ],
   "source": [
    "n = re.search(r\"(\\d+)(?!.*\\d)\", trial_string)\n",
    "n.start()"
   ]
  },
  {
   "cell_type": "code",
   "execution_count": 21,
   "id": "6a4f5d2f",
   "metadata": {},
   "outputs": [
    {
     "data": {
      "text/plain": [
       "'two74119onebtqgnine'"
      ]
     },
     "execution_count": 21,
     "metadata": {},
     "output_type": "execute_result"
    }
   ],
   "source": [
    "trial_string = input_lines[1]\n",
    "trial_string"
   ]
  },
  {
   "cell_type": "code",
   "execution_count": 22,
   "id": "d1d36e72",
   "metadata": {},
   "outputs": [
    {
     "data": {
      "text/plain": [
       "3"
      ]
     },
     "execution_count": 22,
     "metadata": {},
     "output_type": "execute_result"
    }
   ],
   "source": [
    "re.search(r\"\\d\", trial_string).start()"
   ]
  },
  {
   "cell_type": "code",
   "execution_count": 27,
   "id": "74f6e27d",
   "metadata": {},
   "outputs": [
    {
     "data": {
      "text/plain": [
       "7"
      ]
     },
     "execution_count": 27,
     "metadata": {},
     "output_type": "execute_result"
    }
   ],
   "source": [
    "int(trial_string[re.search(r\"\\d\", trial_string).start()])"
   ]
  },
  {
   "cell_type": "code",
   "execution_count": 25,
   "id": "20443e2f",
   "metadata": {},
   "outputs": [
    {
     "data": {
      "text/plain": [
       "7"
      ]
     },
     "execution_count": 25,
     "metadata": {},
     "output_type": "execute_result"
    }
   ],
   "source": [
    "re.search(r\"(\\d)[^\\d]*$\", trial_string).start()"
   ]
  },
  {
   "cell_type": "code",
   "execution_count": 28,
   "id": "2c0804f5",
   "metadata": {},
   "outputs": [
    {
     "data": {
      "text/plain": [
       "9"
      ]
     },
     "execution_count": 28,
     "metadata": {},
     "output_type": "execute_result"
    }
   ],
   "source": [
    "int(trial_string[re.search(r\"(\\d)[^\\d]*$\", trial_string).start()])"
   ]
  },
  {
   "cell_type": "code",
   "execution_count": 39,
   "id": "50446c22",
   "metadata": {},
   "outputs": [
    {
     "data": {
      "text/plain": [
       "'79'"
      ]
     },
     "execution_count": 39,
     "metadata": {},
     "output_type": "execute_result"
    }
   ],
   "source": [
    "(trial_string[re.search(r\"\\d\", trial_string).start()])+(trial_string[re.search(r\"(\\d)[^\\d]*$\", trial_string).start()])"
   ]
  },
  {
   "cell_type": "code",
   "execution_count": 40,
   "id": "f37534b2",
   "metadata": {},
   "outputs": [
    {
     "data": {
      "text/plain": [
       "56108"
      ]
     },
     "execution_count": 40,
     "metadata": {},
     "output_type": "execute_result"
    }
   ],
   "source": [
    "sum_value = 0 \n",
    "\n",
    "for a in input_lines:\n",
    "    sum_value = sum_value + int(a[re.search(r\"\\d\", a).start()] + a[re.search(r\"(\\d)[^\\d]*$\", a).start()])\n",
    "    \n",
    "sum_value"
   ]
  },
  {
   "cell_type": "code",
   "execution_count": 34,
   "id": "a4ca8315",
   "metadata": {},
   "outputs": [
    {
     "ename": "AttributeError",
     "evalue": "'NoneType' object has no attribute 'start'",
     "output_type": "error",
     "traceback": [
      "\u001b[1;31m---------------------------------------------------------------------------\u001b[0m",
      "\u001b[1;31mAttributeError\u001b[0m                            Traceback (most recent call last)",
      "Cell \u001b[1;32mIn[34], line 2\u001b[0m\n\u001b[0;32m      1\u001b[0m \u001b[38;5;66;03m# what if there is no digit \u001b[39;00m\n\u001b[1;32m----> 2\u001b[0m re\u001b[38;5;241m.\u001b[39msearch(\u001b[38;5;124mr\u001b[39m\u001b[38;5;124m\"\u001b[39m\u001b[38;5;124m\\\u001b[39m\u001b[38;5;124md\u001b[39m\u001b[38;5;124m\"\u001b[39m, \u001b[38;5;124m'\u001b[39m\u001b[38;5;124mdlfgkjdflkjg\u001b[39m\u001b[38;5;124m'\u001b[39m)\u001b[38;5;241m.\u001b[39mstart()\n",
      "\u001b[1;31mAttributeError\u001b[0m: 'NoneType' object has no attribute 'start'"
     ]
    }
   ],
   "source": [
    "# what if there is no digit \n",
    "re.search(r\"\\d\", 'dlfgkjdflkj2g').start()"
   ]
  },
  {
   "cell_type": "code",
   "execution_count": 42,
   "id": "7e931c7e",
   "metadata": {},
   "outputs": [
    {
     "data": {
      "text/plain": [
       "11"
      ]
     },
     "execution_count": 42,
     "metadata": {},
     "output_type": "execute_result"
    }
   ],
   "source": [
    "re.search(r\"\\d\", 'dlfgkjdflkj2g').start()"
   ]
  },
  {
   "cell_type": "code",
   "execution_count": 35,
   "id": "7219b7c0",
   "metadata": {},
   "outputs": [
    {
     "data": {
      "text/plain": [
       "7"
      ]
     },
     "execution_count": 35,
     "metadata": {},
     "output_type": "execute_result"
    }
   ],
   "source": [
    "re.search(r\"\\d\", 'dlfgkjd1flkjg').start()"
   ]
  },
  {
   "cell_type": "code",
   "execution_count": 94,
   "id": "841c0d4d",
   "metadata": {},
   "outputs": [],
   "source": [
    "# part two \n",
    "valid_digits = ['one','two','three','four','five','six','seven','eight','nine']"
   ]
  },
  {
   "cell_type": "code",
   "execution_count": null,
   "id": "004877f4",
   "metadata": {},
   "outputs": [],
   "source": [
    "if any(valid_digits in 'one12two' for ext in extensionsToCheck):\n",
    "    print(url_string)"
   ]
  },
  {
   "cell_type": "code",
   "execution_count": 43,
   "id": "82c23ea1",
   "metadata": {},
   "outputs": [
    {
     "name": "stdout",
     "output_type": "stream",
     "text": [
      "Found\n"
     ]
    }
   ],
   "source": [
    "if re.search('|'.join(valid_digits), 'one12two'):\n",
    "    print(\"Found\")"
   ]
  },
  {
   "cell_type": "code",
   "execution_count": 57,
   "id": "312116de",
   "metadata": {},
   "outputs": [
    {
     "data": {
      "text/plain": [
       "3"
      ]
     },
     "execution_count": 57,
     "metadata": {},
     "output_type": "execute_result"
    }
   ],
   "source": [
    "re.search('|'.join(valid_digits), 'one12two').end()"
   ]
  },
  {
   "cell_type": "code",
   "execution_count": 53,
   "id": "ec414dc5",
   "metadata": {},
   "outputs": [
    {
     "data": {
      "text/plain": [
       "0"
      ]
     },
     "execution_count": 53,
     "metadata": {},
     "output_type": "execute_result"
    }
   ],
   "source": [
    "re.search('|'+'|'.join(valid_digits)+'|', 'one12two').end()"
   ]
  },
  {
   "cell_type": "code",
   "execution_count": 50,
   "id": "0ad1361d",
   "metadata": {},
   "outputs": [
    {
     "data": {
      "text/plain": [
       "'|one|two|three|four|five|six|seven|nine|'"
      ]
     },
     "execution_count": 50,
     "metadata": {},
     "output_type": "execute_result"
    }
   ],
   "source": [
    "'|'+'|'.join(valid_digits)+'|'"
   ]
  },
  {
   "cell_type": "code",
   "execution_count": 58,
   "id": "35fa6108",
   "metadata": {},
   "outputs": [
    {
     "data": {
      "text/plain": [
       "'one|two|three|four|five|six|seven|nine'"
      ]
     },
     "execution_count": 58,
     "metadata": {},
     "output_type": "execute_result"
    }
   ],
   "source": [
    "'|'.join(valid_digits)"
   ]
  },
  {
   "cell_type": "code",
   "execution_count": 75,
   "id": "51a79f31",
   "metadata": {},
   "outputs": [
    {
     "data": {
      "text/plain": [
       "<re.Match object; span=(2, 5), match='one'>"
      ]
     },
     "execution_count": 75,
     "metadata": {},
     "output_type": "execute_result"
    }
   ],
   "source": [
    "re.search('|'.join(valid_digits), '12one12two1')"
   ]
  },
  {
   "cell_type": "code",
   "execution_count": 67,
   "id": "7d696d14",
   "metadata": {},
   "outputs": [
    {
     "data": {
      "text/plain": [
       "'one'"
      ]
     },
     "execution_count": 67,
     "metadata": {},
     "output_type": "execute_result"
    }
   ],
   "source": [
    "re.findall('|'.join(valid_digits), '12one12two')[0]"
   ]
  },
  {
   "cell_type": "code",
   "execution_count": 77,
   "id": "b3662e44",
   "metadata": {},
   "outputs": [
    {
     "data": {
      "text/plain": [
       "['one', 'two']"
      ]
     },
     "execution_count": 77,
     "metadata": {},
     "output_type": "execute_result"
    }
   ],
   "source": [
    "re.findall('|'.join(valid_digits), '12one12two')"
   ]
  },
  {
   "cell_type": "code",
   "execution_count": 66,
   "id": "5a058e36",
   "metadata": {},
   "outputs": [
    {
     "data": {
      "text/plain": [
       "3"
      ]
     },
     "execution_count": 66,
     "metadata": {},
     "output_type": "execute_result"
    }
   ],
   "source": [
    "max(1,3)"
   ]
  },
  {
   "cell_type": "code",
   "execution_count": 89,
   "id": "ff36e104",
   "metadata": {},
   "outputs": [
    {
     "data": {
      "text/plain": [
       "5"
      ]
     },
     "execution_count": 89,
     "metadata": {},
     "output_type": "execute_result"
    }
   ],
   "source": [
    "re.compile('|'.join(valid_digits)).search('12one12two').end()"
   ]
  },
  {
   "cell_type": "code",
   "execution_count": 92,
   "id": "4ca6b2a8",
   "metadata": {},
   "outputs": [
    {
     "data": {
      "text/plain": [
       "7"
      ]
     },
     "execution_count": 92,
     "metadata": {},
     "output_type": "execute_result"
    }
   ],
   "source": [
    "[(m.start(0), m.end(0)) for m in re.finditer('|'.join(valid_digits), '12one12two')][-1][0]"
   ]
  },
  {
   "cell_type": "code",
   "execution_count": 81,
   "id": "5cf5bcae",
   "metadata": {},
   "outputs": [
    {
     "data": {
      "text/plain": [
       "5"
      ]
     },
     "execution_count": 81,
     "metadata": {},
     "output_type": "execute_result"
    }
   ],
   "source": [
    "re.search('|'.join(valid_digits), '12one12two').end()"
   ]
  },
  {
   "cell_type": "code",
   "execution_count": 163,
   "id": "5ad906c0",
   "metadata": {},
   "outputs": [
    {
     "data": {
      "text/plain": [
       "{'one': '1',\n",
       " 'two': '2',\n",
       " 'three': '3',\n",
       " 'four': '4',\n",
       " 'five': '5',\n",
       " 'six': '6',\n",
       " 'seven': '7',\n",
       " 'eight': '8',\n",
       " 'nine': '9'}"
      ]
     },
     "execution_count": 163,
     "metadata": {},
     "output_type": "execute_result"
    }
   ],
   "source": [
    "digits_dict = {'one':'1','two':'2','three':'3','four':'4','five':'5','six':'6','seven':'7','eight':'8','nine':'9'}\n",
    "digits_dict"
   ]
  },
  {
   "cell_type": "code",
   "execution_count": 96,
   "id": "cfa79815",
   "metadata": {},
   "outputs": [
    {
     "data": {
      "text/plain": [
       "1"
      ]
     },
     "execution_count": 96,
     "metadata": {},
     "output_type": "execute_result"
    }
   ],
   "source": [
    "digits_dict['one']"
   ]
  },
  {
   "cell_type": "code",
   "execution_count": 103,
   "id": "947fabf2",
   "metadata": {},
   "outputs": [
    {
     "data": {
      "text/plain": [
       "4"
      ]
     },
     "execution_count": 103,
     "metadata": {},
     "output_type": "execute_result"
    }
   ],
   "source": [
    "pos_of_dig_1"
   ]
  },
  {
   "cell_type": "code",
   "execution_count": 104,
   "id": "cf9da663",
   "metadata": {},
   "outputs": [
    {
     "data": {
      "text/plain": [
       "12"
      ]
     },
     "execution_count": 104,
     "metadata": {},
     "output_type": "execute_result"
    }
   ],
   "source": [
    "pos_of_tex_1"
   ]
  },
  {
   "cell_type": "code",
   "execution_count": 105,
   "id": "2efc671a",
   "metadata": {},
   "outputs": [
    {
     "data": {
      "text/plain": [
       "'four'"
      ]
     },
     "execution_count": 105,
     "metadata": {},
     "output_type": "execute_result"
    }
   ],
   "source": [
    "re.findall('|'.join(valid_digits), a)[0]"
   ]
  },
  {
   "cell_type": "code",
   "execution_count": 106,
   "id": "ed8a2a15",
   "metadata": {},
   "outputs": [
    {
     "data": {
      "text/plain": [
       "4"
      ]
     },
     "execution_count": 106,
     "metadata": {},
     "output_type": "execute_result"
    }
   ],
   "source": [
    "re.search(r\"\\d\", a).start()"
   ]
  },
  {
   "cell_type": "code",
   "execution_count": 107,
   "id": "ff3b5c64",
   "metadata": {},
   "outputs": [
    {
     "data": {
      "text/plain": [
       "12"
      ]
     },
     "execution_count": 107,
     "metadata": {},
     "output_type": "execute_result"
    }
   ],
   "source": [
    "re.search('|'.join(valid_digits), a).start()"
   ]
  },
  {
   "cell_type": "code",
   "execution_count": 125,
   "id": "33d08ab8",
   "metadata": {},
   "outputs": [
    {
     "data": {
      "text/plain": [
       "'jrjh5vsrxbhsfour3'"
      ]
     },
     "execution_count": 125,
     "metadata": {},
     "output_type": "execute_result"
    }
   ],
   "source": [
    "input_lines[2]"
   ]
  },
  {
   "cell_type": "code",
   "execution_count": 152,
   "id": "abfa929e",
   "metadata": {},
   "outputs": [
    {
     "data": {
      "text/plain": [
       "'kpmrk5flx'"
      ]
     },
     "execution_count": 152,
     "metadata": {},
     "output_type": "execute_result"
    }
   ],
   "source": [
    "a = input_lines[4]\n",
    "a"
   ]
  },
  {
   "cell_type": "code",
   "execution_count": 153,
   "id": "10cd0f76",
   "metadata": {},
   "outputs": [
    {
     "data": {
      "text/plain": [
       "5"
      ]
     },
     "execution_count": 153,
     "metadata": {},
     "output_type": "execute_result"
    }
   ],
   "source": [
    "re.search(r\"\\d\", a).start()"
   ]
  },
  {
   "cell_type": "code",
   "execution_count": 154,
   "id": "659213e3",
   "metadata": {},
   "outputs": [
    {
     "ename": "AttributeError",
     "evalue": "'NoneType' object has no attribute 'start'",
     "output_type": "error",
     "traceback": [
      "\u001b[1;31m---------------------------------------------------------------------------\u001b[0m",
      "\u001b[1;31mAttributeError\u001b[0m                            Traceback (most recent call last)",
      "Cell \u001b[1;32mIn[154], line 1\u001b[0m\n\u001b[1;32m----> 1\u001b[0m re\u001b[38;5;241m.\u001b[39msearch(\u001b[38;5;124m'\u001b[39m\u001b[38;5;124m|\u001b[39m\u001b[38;5;124m'\u001b[39m\u001b[38;5;241m.\u001b[39mjoin(valid_digits), a)\u001b[38;5;241m.\u001b[39mstart()\n",
      "\u001b[1;31mAttributeError\u001b[0m: 'NoneType' object has no attribute 'start'"
     ]
    }
   ],
   "source": [
    "re.search('|'.join(valid_digits), a).start()"
   ]
  },
  {
   "cell_type": "code",
   "execution_count": 133,
   "id": "2ff769b7",
   "metadata": {},
   "outputs": [
    {
     "data": {
      "text/plain": [
       "'four'"
      ]
     },
     "execution_count": 133,
     "metadata": {},
     "output_type": "execute_result"
    }
   ],
   "source": [
    "re.findall('|'.join(valid_digits), a)[0]"
   ]
  },
  {
   "cell_type": "code",
   "execution_count": 159,
   "id": "1394ea09",
   "metadata": {},
   "outputs": [
    {
     "data": {
      "text/plain": [
       "['fivethreeonezblqnsfk1',\n",
       " 'two74119onebtqgnine',\n",
       " 'jrjh5vsrxbhsfour3',\n",
       " 'tn5eightfncnzcdtthree8',\n",
       " 'kpmrk5flx',\n",
       " 'fkxxqxdfsixgthreepvzjxrkcfk6twofour',\n",
       " 'dqbx6six5twoone',\n",
       " 'glmsckj2bvmts1spctnjrtqhmbxzq',\n",
       " '7sixthreerzmpbffcx',\n",
       " 'zhss9gfxfgmrmzthreefivevpkljfourtwoeight',\n",
       " '6tfzvrbkfour',\n",
       " 'sevenfive66five851',\n",
       " 'drsgdrrgscqmsggrgq1fsqjhtkkrltt',\n",
       " '3ftptvzhvrm5',\n",
       " 'twoeightninemfsztp2gbqkpgqvzt6threekcdcp',\n",
       " 'four156',\n",
       " '959157fourfive',\n",
       " 'sixthreetwo87one7fourdbczdbjcc',\n",
       " 'lshzfive7',\n",
       " '38ninethreethreesevensixeight',\n",
       " 'z39hpppnncfivenbkc',\n",
       " '9ninefivevnbrrfrfjfivetwo',\n",
       " 'fzgnjsz2nine9',\n",
       " 'fnhksixfour1six81',\n",
       " 'vkkxbgcqzqflgsvgkkkpfp9five58stsix',\n",
       " 'eight26sixsghd',\n",
       " '7zvrjkcrrgbsix',\n",
       " 'tgdf38fpcssixeightcjtfour',\n",
       " 'tcrqkxkptrtt5fdblcldfoursix',\n",
       " '9qpmknkbtxsfourd',\n",
       " '8948twosix9three8',\n",
       " 'vpbjslqkpbxkpfiveeight1mzjmhfzl',\n",
       " '187jccxsbqtcjtwo1',\n",
       " 'sixfiveonefour637three',\n",
       " 'stjbeightsixdfnsppjrgfdggqzjx6cplvznllsgtwo',\n",
       " '3lrznqgc85seven3',\n",
       " '1eightfourfourmgxhdp51slrszbxmhthree',\n",
       " 'two3hj',\n",
       " 'zgnoneightseveneightseven5d2fivefourjp',\n",
       " 'ldjzhninetwokxlkbbzcngssdqphlrc51',\n",
       " 'qvhtfhmltt61lss',\n",
       " 'lfmnhxmhschzrtntwotwo7twovkl8two',\n",
       " 'vrpplrtqxvssgnvdf8',\n",
       " 'dzrnnphfl451',\n",
       " 'two7pgbsixlkmseven',\n",
       " 'rplqnj5oneseven',\n",
       " '2fourfourchd7',\n",
       " 'threesixdpslzdft3hq',\n",
       " 'three4bqhlckrlgeight2lbdvcggfqd',\n",
       " 'ninefive6zqhgfhfdnk',\n",
       " '2one9five2',\n",
       " '1ftsjdfmnkvlx9seven',\n",
       " 'four1zsztlvnhcjtvmrlthree4kpztfzqjtdplfxpqlskh',\n",
       " '6zfrhkckfvxsixtjgtnmcx',\n",
       " 'eightfourcppgkrmtn3chqxgscpd1',\n",
       " '6threegxdrv8',\n",
       " 'mstpbscvjrc5twozjtdxhckrfsnzsdm',\n",
       " 'twolhntgone5',\n",
       " 'vtrktlkrqslcdnlslthree5',\n",
       " 'mfkrfournine4knmmmghnsixxrmzhcsix',\n",
       " '2hfkbthree',\n",
       " 'nine96',\n",
       " 'threeqglpgvxgsdfgbctdm1',\n",
       " '1threechctd2tnm',\n",
       " 'nfgrzrz494twogbrbcpvnine',\n",
       " 'two5fdnksffour',\n",
       " '19threeninefive7xzmtzmkpjmnine',\n",
       " 'six37sixninejqt',\n",
       " 'kk28rqmlshb4',\n",
       " 'qmhlxonefbgcrclbf4sqtcpmtlzdzhg4b',\n",
       " 'leightwoplxmgrcjcxrfqncvjfdvpgckmqfqsfqjthreefour2djnsvctlt',\n",
       " 'nseven7dphcjx36twosevenfour',\n",
       " 'rdjkdfivetwo5sixfourfjkzbpjx',\n",
       " 'fiveeightcdttxrxjxchf6oneddnpdgxlrpqxrgqtcbgdqhzzsxdt',\n",
       " '5blgzg',\n",
       " 'ninetdfive7',\n",
       " 'eight9qldkxsevenfour',\n",
       " 'onegprdninefourgndvp7',\n",
       " 'four13znsmhvtmfour',\n",
       " 'threeqnvl9zzzfoneeight',\n",
       " 'sevenzkbxghrgftsxfndhlrcxlcj64',\n",
       " 'kjlmclkqkjl76eightxdlonef4',\n",
       " '7oneninefive4fkonerjpzpq',\n",
       " '248seventwo6six8vbfb',\n",
       " '8khtwojr',\n",
       " 'hssqpxptsb2',\n",
       " '3qcf',\n",
       " '93xrm',\n",
       " 'twoscjr4jtkzxvlfnkltzxf63',\n",
       " 'cltkcrh9jnkvjsfmtlszkvstzp',\n",
       " '3sjtone9cznjhnkzmc8',\n",
       " 'qcjmxqfhlsevennine6',\n",
       " '456rrkxxlfrhk4',\n",
       " 'hthreefrq7lnng',\n",
       " '427seven',\n",
       " 'slq5vtrsninesix5',\n",
       " '5two94bone4',\n",
       " 'six73one',\n",
       " 'fournine757fdgkbppx3',\n",
       " '93onefive967vmtmbnjm',\n",
       " 'bhcktnzlsghvdl9eight',\n",
       " 'fournine9threenineeighttwo',\n",
       " '21cngsixsix',\n",
       " '5nhgtsxdninedvqktrqn',\n",
       " '8tbnznrbg21',\n",
       " '6rjsxftdjgf29',\n",
       " 'zdfourqtrjqzglq4six',\n",
       " 'ninemxhcjfbprlts1six',\n",
       " 'jnmzkfivefive2six2ninegfntlslsgp',\n",
       " 'fouronetwo7seventwoeight',\n",
       " 'sevenfoursixfive2sevenffr2',\n",
       " '8bhpx4seventwo',\n",
       " 'ljclbvmlpeight754two14',\n",
       " 'eight11oneonefivesixsix1',\n",
       " '26ddmfrzzd6qdnvpqjpvdseven',\n",
       " 'vjgjpjtceight36fivesixpdrrlqpmk',\n",
       " 'three349mzhnlg',\n",
       " 'tmrxzcrdc9eightninephdq',\n",
       " 'two11rtlddgh',\n",
       " '9fourtgsixgppd4two',\n",
       " '34onenineeighteight',\n",
       " '4eighthcx92mhrpjfndt92djgtmmnbv',\n",
       " 'nine771two9seven2drflmd',\n",
       " 'hxvsgpcxgkh4twollmbbbprxd349pb',\n",
       " 'twobpbp2eightmjlhrgc',\n",
       " 'fhnnf37sixone5mdvhhssvg',\n",
       " 'cknbvdmtcninemmhtrhmx2',\n",
       " 'one93',\n",
       " 'onervc8oneeightsixfour3',\n",
       " 'fournine2',\n",
       " 'knvjjvskmsixsixlvzt5sevensixmmthree',\n",
       " '2sfour',\n",
       " '29zqnxnqphflltqh',\n",
       " '23eightptpspjtbnninesixfivedhfnmqjd',\n",
       " '29jgghdf8',\n",
       " 'meightwodccsxmc4nvq3sevenqdshf',\n",
       " 'fourbbnqscg3',\n",
       " 'onetwo2fivef54',\n",
       " 'nctbrzqsdljjsix5',\n",
       " '5mblhxfqfns9nine',\n",
       " '6gbone8',\n",
       " '6gd9',\n",
       " 'eight5nrzhl4sixseventrvtwokg',\n",
       " 'r21jjnine',\n",
       " 'mhfsgvcck5',\n",
       " 'six92cdngxmfive',\n",
       " 'pdmmpzgxc1fourzbmbgtthree',\n",
       " 'rdhppfnk8',\n",
       " 'fiveone4cf96qprdgcrlhvsixhznbbbh',\n",
       " 'two4eightsjzrlkhgbrxzs',\n",
       " 'nzhqbzfxchvtbs9sixnfmhpc',\n",
       " '785eight',\n",
       " 'hxgdntgnmr8',\n",
       " 'xsrxnx4tqzqgv62',\n",
       " 'six9ssevenkdqrcnjgvn',\n",
       " 'dfvcznvxqd6twozs6xsfvtmnvln7',\n",
       " 'rhlseven2957vtmpgczngccrmggvtf',\n",
       " 'gfbsfpn9s',\n",
       " 'jxtwonenine39eightpzmbdff3',\n",
       " '66pmgzhgffp',\n",
       " '9cgjmfbgsrg89',\n",
       " '858tknqxhrgfournine97qrlvf',\n",
       " '7fiveonedzbmblrtqfoneightkc',\n",
       " '7gsfvvvfive72gjfbgk5',\n",
       " '1rsscgplc6two4fvxfgnkghfthreejddxmtsxjzmnhgcc',\n",
       " '537eightthreeonenineeight2',\n",
       " 'tzhgg26one',\n",
       " 'qxqhmhdhgqktsvkbkfiveonenzcjfgvnlms4',\n",
       " 'ninenctkgtseightxkjlmkjpbd837',\n",
       " '5xjdl16cjthtvj',\n",
       " '5threesevenvnthreeqkcd2xkfhprfgdzseven',\n",
       " 'pkqlqdvmsmsevenrmhhjtdnneight5',\n",
       " 'cfqoneeight1psqjtgng34one',\n",
       " 'dnvdnstxrsgktsfk9',\n",
       " 'eightjbdcdxpnzm736xh9',\n",
       " 'z5',\n",
       " 'x5xffv',\n",
       " '3ggnbr',\n",
       " '82dlnzszhpvjftdt',\n",
       " 'gkthhvsix7rfbrmnzvmlbsk',\n",
       " 'nineeighttwotfjndlrdpmvfbhs2',\n",
       " '9fpxsgdj5785nsxn5seven',\n",
       " 'qhs1ninethree',\n",
       " '86pcqdkg8onefive5seven',\n",
       " 'mlteightwogeightsmmfvtwo6',\n",
       " 'sixonefourpnnrbl9',\n",
       " 'xstrnmzzjrsmbdone6xt',\n",
       " 'four777hkzrdclsrdfrqkkkh6',\n",
       " 'xzfnndt546lvngqlghtggcrqfour',\n",
       " 'svqlsxtlfvqqzjq2',\n",
       " '167cffstwo',\n",
       " '7ninefive5three92shmpzx',\n",
       " 'eight1threefive8fivetwoeight1',\n",
       " 'four7eightone4onelcrb7eight',\n",
       " 'vzfrfxzzfzmldsixfour2hfpln',\n",
       " '6one8sixninetwoner',\n",
       " 'nsqhnflqjnqvdgvfive21',\n",
       " '9sixeightqjhpdv',\n",
       " 'jstwonethreeninepfkkzvbzcknkmbcbsf6',\n",
       " '3five5',\n",
       " '499jvmmrfzkmbppzcm',\n",
       " 'vdpvj3nineeight7',\n",
       " 'three2fdeight',\n",
       " 'rtwo39seventhreett',\n",
       " 'two68sixeighttwo9',\n",
       " '9kmmftsfgjm284gmmlsfvjk',\n",
       " 'five7gtbpfourthree9xbfttssrsix8',\n",
       " 'oneeightmbbklndlztwo9nine18',\n",
       " 'nthreesklqbkrxrmxkfpfprbjl3kqrgqtvgxdbcjnn',\n",
       " 'six9sevencnn5',\n",
       " 'sevenone2',\n",
       " 'three794sevenlqcbz',\n",
       " 'fourdcfour466twonesz',\n",
       " '2534',\n",
       " 'qv5cm4rpcjkd',\n",
       " 'fivehmvssv6',\n",
       " 'twopltxmsevenfkfour956xvgxbbckqn',\n",
       " '94txltmgz72fkcgcdkbrkbkfpnfck',\n",
       " 'seven9seveneight46',\n",
       " '457k',\n",
       " 'fhvdpgxpone18c9lnfnp4two',\n",
       " 'sixfive458x7',\n",
       " 'eightdjnlvvsevenrnsxrbxqptrvhgnggv77',\n",
       " 'qrvrnzxjkj5',\n",
       " 'seven4two',\n",
       " 'twofivelcrfkzck8three9jcdxvnrsevenvkg',\n",
       " '77sixrjqcmrhktb',\n",
       " 'ht9krsfghfrk6',\n",
       " 'zfqsix77',\n",
       " 'gjxzhgxzmdrczfpqlbp1562njqb7',\n",
       " '79three4b79',\n",
       " 'twoqgxjkvmfivevknkxjp5nv3',\n",
       " 'hjbzznfourfour8fivemkqthree2',\n",
       " '7ninecjtnr2rnpjsxnine',\n",
       " '73mzgdbvrjjpzzxmgbjcdqjx29three',\n",
       " 'kskfgnxbjg97twofourhxpfqxqfivethree',\n",
       " 'fivermxblcb2one4',\n",
       " 'ninefvkfplbsixoneoneeight2vnns',\n",
       " '8q3foursevenlvmtrrqtsix',\n",
       " '2three54',\n",
       " 'jf6fivesixmbnhjdt',\n",
       " '2mpkmrfqctzrfour',\n",
       " 'six4nineh',\n",
       " '2fqseven1nthreethree',\n",
       " '8nine4rhdfive',\n",
       " 'zczjmlslrmjbgrmbpqb3',\n",
       " 'sixpstrxqtdtwofour7ninefive5',\n",
       " 'kzkftdrqzthvx56oneptlvfzvsfiveseven4',\n",
       " 'p71dmsnoneldx',\n",
       " 'nine9twofour5sixzbshnn',\n",
       " '6qsbkgsxrs66one7rnkqzkqfvkhtm',\n",
       " 'jnzzxbtt1kctmsdplhg4',\n",
       " 'pvbnkszjpmeightsixmxjxdprgcsix8zntghmvrl',\n",
       " 'brninesevennine3',\n",
       " 'threedgbqjxhneightchxnvnptwozzfrqqtmmvhcksmjk49',\n",
       " 'sixslxtwo2z7grtgdnffc',\n",
       " '936797pbgtlpkttwokdqlfpbcmv',\n",
       " 'six99fsrnbpdthreefivejpdcvgt',\n",
       " 'one8sixsix4jqsvsqnjnxqvh',\n",
       " 'dsjkbmq1mghlstwo',\n",
       " '42two',\n",
       " 'qbqgt2ninemghghninebdppsjcb',\n",
       " 'bmfmbzg36nine7mqljk6onenine',\n",
       " '763',\n",
       " 'five8ninethreesevenllmjskvbtlngstbmhhqhf',\n",
       " '2klljtwothree3',\n",
       " 'one2jgrqmprg197',\n",
       " '1fcjfbxonefive',\n",
       " '171',\n",
       " 'five4zxbqc2eightseven6eight6',\n",
       " 'sixpkqvvlqkdkhqdseven4rjq27rrjpxl',\n",
       " '79lcsrsix7twolnjjjqffhshfjshkrfeight',\n",
       " 'mczbvstsml22vjseven3gvf1',\n",
       " 'two6sixonetwovntpsbfgdk7snzxrxdmhtgj',\n",
       " '2ksgklnnine6kdfg',\n",
       " '6seventhreevskblmp',\n",
       " '9mptsnrpdqldltwo',\n",
       " '52cgvgnsk3one9',\n",
       " 'sixfive4kstqckhgdd',\n",
       " 'vxhtwone7eightninebvlpkcmfourone5four',\n",
       " '4hnhlr83three3threeeight',\n",
       " '1eightfive',\n",
       " '36fbtgvdfnine9',\n",
       " 'eight6ljtbkp',\n",
       " 'eightsixsix96bvjnxzjjchldtc6',\n",
       " 'jbckzxc5five',\n",
       " 'vghptkb7onejnrnfftgthree',\n",
       " 'mztxz39six',\n",
       " '7rmchptmrglsix21two',\n",
       " '91tmvvktwo',\n",
       " 'seven9fqmfkgthree9sevenfive6',\n",
       " 'jrcj441',\n",
       " '1nine9',\n",
       " '674foursncnphhnd92',\n",
       " 'fsfrcgsonefivelpkz5threesnrzzvxcdn4fl',\n",
       " '8zrlf5pvmzshrjkdgfkpzmgp',\n",
       " 'cflcrf8four9',\n",
       " '6fourkjhtlfrlpmjc95',\n",
       " '968fourzqhkzxtxeight8',\n",
       " 'onefivethree6qxrpxkt',\n",
       " 'four46vvdvrkgv',\n",
       " 'five9six',\n",
       " '1nine8',\n",
       " 'bvqlzpjrmckxpgdfz7',\n",
       " 'rrvv27',\n",
       " '9three8gmsbrrxzh4dxvvstrkzf8nine',\n",
       " 'frnqrxzcfivesix747',\n",
       " '5threek7eighteight9',\n",
       " 'four4rrsqsm',\n",
       " 'twoeightsix5zmdmcxcfdnrnjjsixmfqpvndkctzdv',\n",
       " '8zvbnthreenvplvljj',\n",
       " 'srfkl8twofive',\n",
       " '82njdktmcckrjf39',\n",
       " 'qqgmhfourthreeeightjjxfour68three',\n",
       " 'fourthreenine5',\n",
       " '9nsfkfcdqcbrbdh4ninetwofiveseven4',\n",
       " '7fivetwo',\n",
       " '2lssdgdvhl',\n",
       " 'fouroneqmffoursix9eightwokv',\n",
       " '4cjmsixqhddpcsngvxqskkbmseven',\n",
       " '266bfxtxpkxcxthree2ktmtddmfg',\n",
       " 'five6ninebgzmgqbsttf3vhn',\n",
       " 'pqmgcchhqrpsljbvx1fourmhzszhdmfznine',\n",
       " 'jlxlcqfc1bgqjsvxpbn',\n",
       " 'eightfxpnxckzqxseven6llfvqqbhdd1ninesix',\n",
       " 'threeflgkjrnrmr4xpxfhhl',\n",
       " '6pvszcmrmtbfhlnmgmqxnqvntg96',\n",
       " 'cgnp8ffnxlpmblonethreeqcqnx6',\n",
       " 'zjvpxg3ccmkxtzhlx',\n",
       " '7vgpflkfdkvktfhxgf8hcgxzz',\n",
       " '4cmhfccrttfive',\n",
       " '12twofour',\n",
       " 'jrgoneightnddmmchbmmklk847three',\n",
       " 'threefourgbsjmmrznlmgttq3zncprp8',\n",
       " 'ntqpbkvr3xkgqgxjh82',\n",
       " 'nine9five',\n",
       " 'n1eight979',\n",
       " '8fzvjmmnhd2five',\n",
       " '6vxmbqsvzt',\n",
       " '22fftjtpv84sevenn',\n",
       " 'twoone7slfhztpc7bfjptdzj',\n",
       " '91fiveddprnkzprseven',\n",
       " 'fivetwo8dssgjmpmvsixps5',\n",
       " 'pv9eightfourhgklds4pfnxmtpmzrmx',\n",
       " 'vfjfd4sevennljkxxrz',\n",
       " '3threesfourfourbftwoksclvtxmvmq',\n",
       " 'seven7fsj165',\n",
       " '77sixkqsdpzxv9',\n",
       " '1fourninemqxqc412',\n",
       " 'pmdmtthree1sljpn99three',\n",
       " 'zvqvhhbrg76bfbldtwoeight',\n",
       " 'sixbh5two5two8',\n",
       " 'fivefournjdlbggpsbn1threevzqktlbm8',\n",
       " 'glzqmznfiveninesixkscdflhqj9rjnjt',\n",
       " 'hjgbncf9',\n",
       " 'zdnf7',\n",
       " 'six6fourjghzroneightf',\n",
       " '6zxvqqxrc',\n",
       " 'd6',\n",
       " '1txhlrsnbk97fivelvqjxeightfour',\n",
       " 'hthdvd35six7',\n",
       " 'ninedrc3one',\n",
       " 'eight28nine1vjm3nine',\n",
       " 'zrnninesevenvftnjl1pdfgkdhmjjgmpgxkjttwo',\n",
       " 'threelhnhfxkeightsix7',\n",
       " 'gjqng7two46pzxcsbgnv',\n",
       " 'sixcdj9ghqlbsnpbninesevenxdzkqxdfdrlfpgnpg',\n",
       " 'nineninethree3twovhjhjgfive8',\n",
       " 'ldgzxftnninenine82',\n",
       " 'zxvtgsfiveone1sevennine4rfh',\n",
       " '1318khksmlfv9sevenfvhrt2',\n",
       " 'vztwoneseven1rb',\n",
       " '457threeninedmffxznlpb8',\n",
       " 'five7eightcvgcmqkctclnjsnfourvqptsnpph4',\n",
       " 'pftwonexgrzdvq65',\n",
       " '64hfptjtqztlv',\n",
       " 'fmxfjg686fivettfgd',\n",
       " 'hpbqxfour6two86nmrhgkeight',\n",
       " '3skzmdggpnxsix5four8',\n",
       " 'sixfour7smh6gbbphmv8xrrrsns',\n",
       " '5bjvmxml3threephlfnbpfxq',\n",
       " '9zlrdnxvzffghrqhsixfcsrtqvfone',\n",
       " '61hmdmjfv36eightthree9',\n",
       " '78six3crj4nine7',\n",
       " 'fourqhtvfbpx9hcvmzmdjrshkhrthree',\n",
       " 'threeninehbcgqmxknine8z',\n",
       " '17csdthtzrsqnssxqfivesttdfzxrkhnine3',\n",
       " '9eightpcflcqfhveight3',\n",
       " 'hbvkzz9seven',\n",
       " '6seven6',\n",
       " 'eight3two16tlnsmxpqbn',\n",
       " 'fjqhctnjhk4fourcgxfhffrk98grx1',\n",
       " 'sjkpr34',\n",
       " 'hvlh2five8fivendxh7three',\n",
       " 'onethreed12jvnk1',\n",
       " 'fivetwo1rtscxhkqpvtxkmjccbcvl549',\n",
       " '5qvmvft',\n",
       " 'nine9cpqzbvhseven9mtjk9seven',\n",
       " 'znrpx47two67six5',\n",
       " 'xnqk5fourp4tflgmbvhlxsixfive',\n",
       " '3fivesevenrzeightbhfvhrh',\n",
       " 'qzmbljhone8fpmkrrrhvdbqvdthree1',\n",
       " 'rfzfztn83jrtnn3five',\n",
       " '29one5fiveggrhlvtvtz1',\n",
       " 'onennczlkx3twozjdlblqcvhtwo1lrvtx',\n",
       " 'mhmrtmjlffjlmhfour45two',\n",
       " 'bvjnzxbmfninefour94four',\n",
       " 'glrcmgthreesix6eightxgzx3',\n",
       " 'six7v4onevptsdghxqblrpblng',\n",
       " '7nine6sevenoneone',\n",
       " 'pf8oneoneightjgl',\n",
       " '5dftcf8fourfive8ljdkhjxd3',\n",
       " 'nzqnbpssix54ssmsnthreex',\n",
       " '8fourpbxtvcmsvrvkcms2zvvvmkp',\n",
       " 'mv9eightone',\n",
       " '2lvthreekbfjj3glbrlpxsqlkdksixseven',\n",
       " 'twotsvcqfoursevendfsqk1threeone7',\n",
       " 'fivefsphdxqlpds91kkfqone',\n",
       " 'eight5two9',\n",
       " 'fourfour7tfxr',\n",
       " '2czjhjsrrzc',\n",
       " 'ninetsrzqvldgn9fivefive',\n",
       " 'fivetwothreevcdvqnv2zhmtmrqvv2',\n",
       " 'nine9tqkhxsthree2eight63',\n",
       " 'bneightwo8kpkkgbxgnineqjkt4fiveninesevennine',\n",
       " 'rvhjzveighthqdgzhfcbnxztf25sixfour',\n",
       " '8four4six',\n",
       " 'rjsgxsjqrq1pbzhfxqvphvnd67kvt',\n",
       " 'sixnine6',\n",
       " 'xnvfgvcs7',\n",
       " '3sevenoneone3',\n",
       " 'btmnrqcphpcxnhtwopvlthreeseven9',\n",
       " '991',\n",
       " '3ninepqhq9mtwo',\n",
       " 'eightfmfkfvmtwofoursix2',\n",
       " 'two48',\n",
       " 'bone5phdjdlseven',\n",
       " 'ptfxfdkninefive6sgrjhxksft6',\n",
       " 'nine9eight',\n",
       " '2pkbv',\n",
       " 'lhqeightwoseventhreegtpvhsixdgseven8vlkkl6',\n",
       " 'j8nzlqctlbffonegzcvpjksmr1ninetwo5',\n",
       " 'f93fmgqllzf5',\n",
       " 'mtsdrqzqrkthreesnjxkdjlc5fj',\n",
       " '95onenmqrzbkksevenfour5five',\n",
       " 'six8threetkzqrs',\n",
       " 'two9twooneone2rdkdtlttj8',\n",
       " 'srjlgxreight8fiveoneightt',\n",
       " '7fourxtcj',\n",
       " 'threelrqhtjtts9zsix1jvrkkzn8',\n",
       " '6xxqlzkgfspv',\n",
       " 'zltbp8',\n",
       " 'four3seven6mhqtln342',\n",
       " '9eight7rrseven8zmcqd',\n",
       " 'mlgcbjhxjeightqxxxb4seven',\n",
       " '3nfivedgpvxprzvpbftplgtfivefour',\n",
       " 'ninenhxjqzhhhl1three99',\n",
       " 'fivetptfpone89ponefourjxmdrjkrleightwoh',\n",
       " '3tspjckb',\n",
       " '9four39gvlmp5',\n",
       " 'twotwo89',\n",
       " 'mboneightgjjrxxxkmmhprxptqtvseven754gjjr',\n",
       " 'pdgksxnkqj7fourdtjlnjs3four4',\n",
       " '3qkkbbfkvnninencbvnvztmnfpbsix8one',\n",
       " 'seven2jqljbktgzvr',\n",
       " 'fourdv5onesix8five8seven',\n",
       " '5sthtkqk5',\n",
       " 'tlpds3',\n",
       " 'tvzflpzpgsl2hcpsgxxtgqeightfoureightoneone',\n",
       " '8gjflqxf26rfour',\n",
       " '578vsxmdtleightsix',\n",
       " 'four2two6',\n",
       " '5onetqhsfourtwosix',\n",
       " '1xj5fvmftprrcqvmcj9',\n",
       " 'qzbptdttbqseven6',\n",
       " '8l',\n",
       " 'ninejsfdnfl85fpjgcmkqvmfivetwoeight',\n",
       " 'kcmrgnljhpfv2jjrfcvdqsixkjhlfnq',\n",
       " 'cmlvvonelmkfbt3qfdgz5',\n",
       " '9hnsjjgdd4mvksevenfzplpczbbonetwo8',\n",
       " 'zone3',\n",
       " 'cthtrxb39393',\n",
       " '4nine54six4txtpcz',\n",
       " 'm1bgfeightqjhvlrlfj',\n",
       " '3199',\n",
       " 'one6nineeight5vktwo9kgfjhktlgb',\n",
       " '2cpgtrfourtblzrhdlvdq7fourtlpvjkpn',\n",
       " 'qpfjcfmgnpnvrsix1shncrlmone5zjvcdrv',\n",
       " '3mc9qgkplqcqjdtwogmsxvcdhxccxtwortdpsjpx',\n",
       " '8znfpbqv53seveneight',\n",
       " 'vpptlbbmqnfivekq7',\n",
       " 'one27ctq193onesix',\n",
       " '66',\n",
       " 'znvvmjktwoblr8',\n",
       " 'tdqzhmsv4onefour',\n",
       " 'hqxdgtrhmxonetmpjmd3ltwo',\n",
       " 'rlppvdsrxpnxh6fivezdbbvgpbpqkxxvnnq2',\n",
       " '37ninegthrzpzkrnine',\n",
       " 'lbtcrcmkckfmheight5ztvqpbt4',\n",
       " 'six7eight498two',\n",
       " '1msqsmdfdpq6ninepxnjjfnmfivecfxhdrndbd4',\n",
       " '8eight9four2',\n",
       " 'cpmeightwo5',\n",
       " 'seveneight2three6two',\n",
       " 'sevenonetwo2rqhkvnjthjmrdkhrbjsstfour',\n",
       " 'fksvone9four',\n",
       " 'snqbjfjmcbqpmonestj7bxgj',\n",
       " 'mhbxccsseveneight9gdzdkeightpk',\n",
       " 'mgks1seventtbnqcdllnine65qkfdrzm',\n",
       " '83xzcd2ncvxdbgdrdklnmps4fxcndtkjsg',\n",
       " 'fsqgljbpxninesixfive55six1',\n",
       " '34fqqseven2',\n",
       " '3eight6nffcnjrsixsevenqf',\n",
       " 'dplzrgtn8xjnqpnxts1ninesqfhrdxrmn',\n",
       " 'szd83hxlnshsevenone3threetwo',\n",
       " 'csevenqnpmqhtpeight8twonelp',\n",
       " 'dxzfhlrpzzfive63dz4sevenrlqcxhjddv',\n",
       " 'xbgf81bxlthreepkjh53',\n",
       " '8fourbbcnn',\n",
       " '3gdthtqzjleight9sfmmzcone',\n",
       " 'ckrkgrxd88',\n",
       " 'three4zlkvrrmsgc28nineseven9',\n",
       " 'nine5hcp9',\n",
       " '821pbsfmp388',\n",
       " 'two8eight2four8',\n",
       " '14nine',\n",
       " 'four6vxpvfhfggnninesevenseven7twoone',\n",
       " '3onethreemsjjvc7jblmdxrz',\n",
       " '6gvfeightnineplmmbtsqxcxs',\n",
       " '5four36ninemtpqtzpktqfpfive',\n",
       " 'zmxrctmxnfchrmsdxj1rbxkblsevenfourlgdppzfblh',\n",
       " '7sixhqlrfqzzbppzzsssixlhtv',\n",
       " '1teighteightdj',\n",
       " '7cldkzgbn',\n",
       " 'mjsdlsgtwo2two',\n",
       " 'jbnfqjdl8',\n",
       " 'fourninesmff5fzsvpxvc',\n",
       " 'five3dzgrsrbsmc7pnlz',\n",
       " 'bbzch5twosixseven8one4',\n",
       " '2229',\n",
       " 'six824881',\n",
       " 'onevtsjztc3twoeight1',\n",
       " '72sixsgzpbpdjvtnxfivesixsix',\n",
       " '1fournine',\n",
       " '841five',\n",
       " 'qvrrpmdmgqseven1sthree',\n",
       " 'mkxbqcrxtsevendsrgvfkrgeightxrvfcgtwopsjnngn8',\n",
       " '8dvjhfhhzbthree5p36',\n",
       " 'qqmhvjjnznxr95kkl9',\n",
       " '9sixsevenz87',\n",
       " 'threejvpsvdxkgfg5three6bqmg5eight',\n",
       " 'f7four8eight5foursix6',\n",
       " '8sstmfkpsjmxmrdkm3fpxxnpqmdhvrbkvgxxzfourseven',\n",
       " '8vtpvlbkgxngcrjrsone8',\n",
       " 'jtwonexsgmlztnhtrljtfggkm5',\n",
       " 'cbtxjqqdqc56fourjhgtrjsxnbxnineeightwov',\n",
       " '76zts8',\n",
       " 'fivehqftq3',\n",
       " '5fiveqpncbfrrnp5sixfive',\n",
       " 'sevenseven9',\n",
       " '8nine2fourdxxdghpmvseveneightwop',\n",
       " 'five4lzmvkqonefourtfhp',\n",
       " '928',\n",
       " 'fourklbbjnr6',\n",
       " '3eightdvpsbkf79klxnkkfour',\n",
       " '67three',\n",
       " '2two67hhsrfbdfournine3',\n",
       " 'lxpl2',\n",
       " 'sixsixjrkhthreeznvqgseven9kjlhc',\n",
       " '34llhlctkks',\n",
       " 'rsgmz7nine3',\n",
       " '3tdxfrvpktwofourfivevxtlllqvggft',\n",
       " 'seven2ninegcfrhbjxhlcntxzvp',\n",
       " '321dcmcqmmfvfzvgmjp1mone',\n",
       " 'two12qlpxjdjqfc54seven2',\n",
       " 'eight5fjmsgjztwo',\n",
       " 'twotkdjqqbtt6twoone79sjkf',\n",
       " '19one4',\n",
       " 'xvjtmnq15',\n",
       " 'sqvtzflq8onetwo3fghrstrd5three',\n",
       " '4seven8rlrggvgtx9crnbseven8',\n",
       " '59cxtwo55596',\n",
       " 'dkkdlsmmttwofour8',\n",
       " '9xzvnnnr7jjjsrrxlsvggqplrqfpgl6rgrqgrqhr',\n",
       " 'kkbjcptltjsdjrlhzzg4drkffivezkxl',\n",
       " 'krsevenrcdq43',\n",
       " '72fiverxszpfkgxtdjnspxmrt176',\n",
       " 'one5rjglslglzlhnhqj9',\n",
       " '18bxgghx4',\n",
       " '4fivegtxkxvqlskpv726foursqeightwonq',\n",
       " 'eightoneninetpht39two',\n",
       " 'four5982xjmvzxbhkqfive',\n",
       " 'sevenptlmncl4',\n",
       " '4twonine3',\n",
       " 'nfpvhninefthreetwonine88',\n",
       " 'onervzkpxbrmnsbg3rkmjsfbltwo',\n",
       " 'gv2',\n",
       " 'eight5dhsprsgr',\n",
       " '8qlbfive1flxrb8xcsfkdkxskdmk',\n",
       " 'gzv65rmkncqcveightfgfvfcmttkgvbxjg',\n",
       " 'two2pbxckhdlxfivetdqthree',\n",
       " '84lgmvhxpldeight',\n",
       " 'jtjkmlfbmseven65xrnfbkn',\n",
       " '9five2plxh2',\n",
       " '6nineone5rgrkdzhsxj5',\n",
       " 'vjdfhvklsp2one9',\n",
       " 'sxfvgxgh4drmrhmbqjxhkr8jqnhqrnine',\n",
       " 'eightfivetp6mndcjqbdvzsix',\n",
       " 'seven7vt1',\n",
       " 'five65twotwo8eightjm2',\n",
       " 'mvvsix8threecl1clftjvjlgk',\n",
       " '2threefivethree3rqhhdvxqmg8',\n",
       " 'qkkpvjfmpjcsmldtnine4nine',\n",
       " 'zgrpvl3',\n",
       " 'mdjnine1kjfkqqn',\n",
       " '7mptczpscnq4vdfbveightfourjkhnhlkrkgch',\n",
       " 'pnineonetwo2',\n",
       " 'hkvtvvhrsrsevenfourone7kglfnjzztc',\n",
       " '594eightpp1vseven',\n",
       " '9bbghfmvgcpchvbfivesevenfoursix2',\n",
       " '2three2796',\n",
       " 'sevenmzskghzgnxhqcq48htpczbhgvtwo',\n",
       " '61hnccftjftjbnntsjhbfvvdtmlpbnnh3four',\n",
       " 'ljg79gdvhxdkmsqmsgnz',\n",
       " '4ninebjgqqz',\n",
       " 'bszxzt4gone6n2',\n",
       " 'l4ctzkxbz',\n",
       " '5qrhonetflqdnsztwonine9vnctxjnine',\n",
       " 'one5xrl2ldcrs',\n",
       " '4eightnineone',\n",
       " 'zjlgvvpzpone9',\n",
       " '1eight5three',\n",
       " 'vmvpknmkds9onegjxsfppqtwo7prv',\n",
       " 'threembbkvhlv28ktfjpd29',\n",
       " 'onefivehjvhjjbjj5jmqcmbxskninexkftfk',\n",
       " '2eightjvpxjfzhcj',\n",
       " '59glcksjlr6onefourtvszlbcztlbcjnkqn',\n",
       " 'sixxls6seventhreefdrhsfchfrfiveggdbmfqvxk',\n",
       " 'sixtwo62eightkcnrkmt',\n",
       " 'eightfivedpscseven93',\n",
       " '191dhfpcjbn',\n",
       " 'rjhgbzqftwo247vhtnxone4gjrj',\n",
       " '8fourctzsbsnine6sixfive4',\n",
       " 'four1dcczj',\n",
       " 'fourqnskksgg37sixeightpktnqvlm',\n",
       " '7one26eightsix',\n",
       " 'six7sevenjbhfsshdtbvpbpzx',\n",
       " '6jstxqcffive58twonelhf',\n",
       " '2sixhcdkrprbskfpbb29lsxgpf',\n",
       " '2qjlcphonefxx44six',\n",
       " 'ninecsssqzhone6nrmlkdhvthreefour',\n",
       " 'hrbnfive19',\n",
       " 'sevenfrtrbdqfournineeight2',\n",
       " 'mbkljfive5snsdsthmcdqrhpklxgx',\n",
       " '43vvtqb5rfivesixkbxdkfgshjk',\n",
       " 'kgoneightqqxlrhtpx58threethree7vvqq',\n",
       " 'plqv7fivetwornc',\n",
       " 'six8bhgnfctwo',\n",
       " '2ninejjtvxrffjfivesixtwo',\n",
       " 'mpntlbqvninepfkdgdrmrpxgs441',\n",
       " 'brcspjtbttnine16xhjhvzgf8fourrbdljsz',\n",
       " 'three1onefive',\n",
       " 'five1q59',\n",
       " '2rxtthree3three',\n",
       " 'dd126gpdnjjgxmg9',\n",
       " 'eightone4cnpqrrdvvsixtfdfnlpmz',\n",
       " 'llrfourtwofourvlg78',\n",
       " 'ninehjhpnjbzdgxxcthree5',\n",
       " '94vp4ftkxfh1',\n",
       " '6tfrbtvdk5fivefive9zpgvfkfoureightwockn',\n",
       " 'bfnxmkjsevenfive8',\n",
       " '9gqrnnmjddmz',\n",
       " 'four72snjxrhn',\n",
       " '3three4eight339',\n",
       " 'four5fivervnxbscxjdtwolvnine',\n",
       " 'eight4xvsszglslfivetwosixsixfivekndrmh',\n",
       " 'ninesixeight6eight2seven1four',\n",
       " '661seventwo',\n",
       " '23dtscfgln7',\n",
       " '6sixlcdqqx196',\n",
       " 'ftggvxqqlbrpkg629hxgsdnzxsrd7',\n",
       " '3pmsbddckfivefkhxlhp7cmxgnf2',\n",
       " 'ghzqnkch7cjrs',\n",
       " 'four22',\n",
       " 'mpmzbnfour852r4six',\n",
       " 'r8one8five',\n",
       " 'onesix8threevxgpq17four',\n",
       " 'qnqeightwofcdsxgscgclpptnp9four1sixnjlvxqxxsnine',\n",
       " '22ghnftqtmxzgfllzqkjvglrncgtwo',\n",
       " '9twolkqtdzlg2qglgtnls',\n",
       " 'one3fivevhp4tpvjxccrnl',\n",
       " '4jghljvxq',\n",
       " '6n',\n",
       " '5sevensevenzsxtrvprbrpmnzjnft8dtczjfgrcjqdtt',\n",
       " '692rchkx',\n",
       " '32gpqjfnsevenrnqcd',\n",
       " '3fivejrgfjthreetwo869',\n",
       " 'sjtj4ninesix',\n",
       " '9pqxqhfourthreeltjvpv3',\n",
       " 'twozxpthreenine931threethree',\n",
       " '9kdmxssdm6fivesix5',\n",
       " '3chmjhtwo67eightfour9',\n",
       " 'sixjt76fiveninedjzpceight3',\n",
       " '6p36onern5',\n",
       " '963seven',\n",
       " 'pgzrdxlqcb6ninejmxreight45seven',\n",
       " 'sevenmbgqvnnine5eight',\n",
       " 'twotwo5',\n",
       " 'hzbfour63nttfktqjzjhponeightcz',\n",
       " 'tnmbxcgrxbfivefive8cttmdeight',\n",
       " 'tklnv52two626htjghrccmzct',\n",
       " '4nine7mninetwo',\n",
       " 'cfglfqttjrtnzrrb3jclcngt4',\n",
       " 'ftwo6eightgctgjzbrxlftlhvzc',\n",
       " 'kjscrvjhbtv7twoneq',\n",
       " 'four51onezkhllzssix1five',\n",
       " 'sprftsonesevenn3rmfive',\n",
       " 'm35five2fn',\n",
       " 'dcvvxzbmseven16',\n",
       " 'tlrone45',\n",
       " 'nrtfqlsxxvvcqtnjxzzonefour6329',\n",
       " 'bq64six',\n",
       " 'btwone79mkcmhlmfg',\n",
       " 'four35one',\n",
       " 'seveneightthreennbhgbsix6nine',\n",
       " '8llbpdqqsbb',\n",
       " 'sevensvhzkjfxrnvxkp247five',\n",
       " 'qftsrhn3vsnbkpptqdsxdz',\n",
       " 'fjrp3threetwo7cbjsbrq',\n",
       " 'qzbbpk65',\n",
       " 'nttgvr42fzkr3sjgsfspnmfive',\n",
       " 'zsjnbntmmlqs7cgbdxcmqone9',\n",
       " 'threehpjbgphfqj2',\n",
       " 'onezjcmlcjmkfive7',\n",
       " 'fourthreefive86twosix',\n",
       " 'vlgfd31seven',\n",
       " 'flbqdkfqmj5htrzfpdjxeightsix',\n",
       " 'psh5eighteight8six',\n",
       " 'crzpzxt3eightvgfive466fbs',\n",
       " '7cxxnglphqcxxnlbj635',\n",
       " 'threetwo6brzqxrbfrbffzllth3',\n",
       " 'jhcpvv8xccdmczvthree',\n",
       " 'fivehzsdct9ffmknlgtdmfzdfvmxvpj',\n",
       " '68eight14zthree22',\n",
       " '4qfdnl',\n",
       " 'seventnfnjtdv5qsrmksixffcrs7nine',\n",
       " '1two5one',\n",
       " 'ninefmjlzkninethree3',\n",
       " 'hkkltwoone6hhkdkqdvznmnine7',\n",
       " 'rns2jmbcvp2',\n",
       " '7tworgz5mxxtbjvg',\n",
       " 'twodxzfvhkzbtwo2qght',\n",
       " '1bvl3',\n",
       " 'scxhtbssnghvkkhjr6v8',\n",
       " 'dxrztssg5jtdsix',\n",
       " '4dhpvzsmxhbsixjrtqxmmcnkhv',\n",
       " '2bxzpmzteightpshgffpn',\n",
       " 'onetwo14sevenlvvhls5sscsrpmzhsix',\n",
       " 'fourtwomxscgh6four',\n",
       " '7mnzfive',\n",
       " 'xhzsgtppxgchc9threenine32fourthree',\n",
       " '9nine4sevenqnhhglgfdccheight',\n",
       " 'mssoneight8three79vgpjxgjqseven7spgzdfbltl9',\n",
       " '6zxkgeight',\n",
       " '7mjqteightthreeeightdrnkjzzlm531',\n",
       " 'oneoneeighthhgsvj45dvzdvqxqkz',\n",
       " 'threedxsmlfqhpcs75eightthreecfbsgbfdxz',\n",
       " '68two',\n",
       " '48tjbzmqrpmjfpv',\n",
       " 'eightnine3six4pr6fmtfhxssrd',\n",
       " '3rngpqfourtwonehqk',\n",
       " 'eighteightfour8tkgfkjcsixone5',\n",
       " '7one3mcffpztdmzshrs2threecjmlsv',\n",
       " 'three1jznfive6dxlcxn',\n",
       " 'htzfvd1twoonesdrhpn',\n",
       " 'twofive7',\n",
       " 'five35ninephsixtwo',\n",
       " 'ninethreethreetwoninesevenfive8',\n",
       " '3j4fivekcqj7',\n",
       " 'hzf9',\n",
       " '7threefourseven6onenine',\n",
       " 'tkzdhq39fourfive34qkhh',\n",
       " 'one1mhhrglhvsbbqvj',\n",
       " 'ninebthreethree9four5stfspnine',\n",
       " 'hkmzxzhvfsevensix9three2seven',\n",
       " '71six35threeqdhxbxrhcx9',\n",
       " 'clnzgbxkglf31',\n",
       " 'sixmsvpqdonetwo4fourpjrkmnpfdvvrfh',\n",
       " 'sixthree4one75',\n",
       " 'seven5eightsxnkzfbcnlpfhsixfive',\n",
       " '98st',\n",
       " 'one7fivetwogvjpmx',\n",
       " 'gpvtdsix5',\n",
       " 'five9twotwo94qsxlslxq',\n",
       " '78znzv8vbkqxnxhj3',\n",
       " '3threeqfbxplhqxsr61',\n",
       " 'sevenjsvdxcjqjp5',\n",
       " 'hbjcnqqtd1twotwofive5two',\n",
       " 'vqdf19',\n",
       " '52two47mkrnvrkpfivelvmgzjgcv',\n",
       " '8nineone',\n",
       " 'ftqtbqqrqrsnnbnineninetwo6onenmjhvlr',\n",
       " 'onensgkpknpqxm3four3576',\n",
       " 'sixtndjcvprxzngkfivesixpvtft5',\n",
       " 'vtvkrnjvgninesktdqlzpt5',\n",
       " '9kdfqnsmzz',\n",
       " '6fourjbdqj',\n",
       " 'fivedmdphcz12ppltqpb82hdjldslp',\n",
       " 'ksqkttvninesevensix4pbnjsfznch5dlxfq',\n",
       " '67hpqgstjlzsfive77',\n",
       " '8vxrtgxfbk',\n",
       " '6qksbmnineninekbzcbrmtjthree',\n",
       " '76prtggdthree5seven',\n",
       " 'qksgrmmnvone1thmhh3twoeightsix',\n",
       " 'two2oneseven',\n",
       " 'cc9241nineninesixtwoneggs',\n",
       " 'fivesevenhqvrrqrhqlvnslvvqnzrnninebcmsmc3',\n",
       " 'nineeightsix42',\n",
       " 'vreightfourninefivep1',\n",
       " 'onedzn7mhvpnjsdgtzcp',\n",
       " 'fbvtnineone5five7',\n",
       " '6oneninesixjgggcfkkltwo944',\n",
       " 'gcxkmnnbeightsix4',\n",
       " '6one2eight6gbm33',\n",
       " 'threefivetwoxsrt7',\n",
       " '5glzddtwo',\n",
       " '94hmjcsevenfour2frqljgdrdfoureight',\n",
       " 'jqsfrllonedqvmm3n4six',\n",
       " '913ninetwomkhvvfntng7seven',\n",
       " 'fournine8',\n",
       " 'fnmsx4jckrgtwoeightfour5pdhbb',\n",
       " '8eighthrs',\n",
       " 'threethree4',\n",
       " 'nineqhkxhfslfrhfivep64sevensfg',\n",
       " 'three9nineseven7four4twooneightqbs',\n",
       " '143seventlnvcdjt',\n",
       " 'clgltnktwohzmvrdcspfjc1twoqs',\n",
       " '2five4',\n",
       " 'klt1xqmp5vkrpz',\n",
       " 'vdntdrrnz8vtxx',\n",
       " '51sevengrvvqvnrmmsevenkqqnninefourskgxncnl',\n",
       " '3cbcn',\n",
       " 'four5fivenine68three1',\n",
       " 'seventhree2sixls',\n",
       " '4eight8sdprgt697seven',\n",
       " 'ptfdbpr414',\n",
       " '9jrgnxqfourbmcl',\n",
       " '1three8dseven9jfive',\n",
       " '66pdxzvnzrqnkmfthreeqgnkdqvvcbcjbdsnz',\n",
       " 'threercbhjnckc8slv5ksrhvtt9fh8',\n",
       " 'six35tpf',\n",
       " 'pzrghq2four42',\n",
       " 'k8ninegqdcbnhb7mskvft25',\n",
       " '2cxvggrthreedpplnjvsqhgfpbfivesixnpcsjn',\n",
       " 'ftwonethreefour9fivenine1five7',\n",
       " 'sixsixccfbbvxkrcnine71',\n",
       " '9gcglxmjknhtwotwoone2onenineseven',\n",
       " 'khvppgl8eight',\n",
       " 'bzninebqfhn57',\n",
       " 'oneqbltgqlbpqdxgqonem4threefour1',\n",
       " 'xchkvlprvfgd59jdbfgvlbeight',\n",
       " '84cjhvqmgdfh1fivesevenf',\n",
       " '2one2',\n",
       " 'hxqfsjtwofivehbvndtpsevenseven44hkdstdkzs',\n",
       " 'nine4k1five',\n",
       " '78rqrtjzsdfc3nine8twosqzzgsktmkcszzx',\n",
       " 'sixsix8',\n",
       " 'qkqhcfdckxsix29hfnnineg',\n",
       " 'twotgpfcdfcdtwocrffone5xcgtscjbmf',\n",
       " 'sevenfivenjvtctlkkmgeight9rxtjlnb8',\n",
       " 'ntqfzccxhjfourfmlgkheightmkplt5',\n",
       " '1lpgdxeightqrmkqlxvcnntbvgzthree68',\n",
       " '6four9two',\n",
       " 'threej5oneeight',\n",
       " 'pmlgczzpthreethree89btlvhfzbjd',\n",
       " '8fiveeight',\n",
       " 'tvdkgbgrhplq66fldd',\n",
       " 'jsfkf54nvqmbnjmxks',\n",
       " 'gtpxlmphhgbgksixtwo9three',\n",
       " '5ktgh',\n",
       " 'ggvzvfzmmmvrsqghrbd3kninezrlftwonebms',\n",
       " '4two3z',\n",
       " 'fourzdfstskxhggkrl6eightndbxjeight8',\n",
       " '3zdzlreight1827four4',\n",
       " '2qlgkrbmnsgvmpninevjglsevenzdtmrqrnljthree',\n",
       " 'four2eightfiveldxtfjltseven6fourbddptkvjl',\n",
       " 'brrmvbfqkfczz7hthree',\n",
       " '12fbdbbsrzss6dsrsrkjfhsrjxpxhvkfive',\n",
       " '889srrl6six186',\n",
       " '46tscxgjrxtwo4hlm35tzfxhrzsfd',\n",
       " 'fivesevenqgqzpcqnjdjlmg21hgnrdhfrp',\n",
       " '2sixznfour6two',\n",
       " 'four4ztsfhvvmdkghh9one4',\n",
       " 'bdnmcghlkjmthree1sjhqbmmjtvfcxzleight9',\n",
       " 'bbqpd77jhlqbdp3fvnsevenfzxq',\n",
       " 'six7sixbd',\n",
       " '8rstj9onetwonem',\n",
       " '6one1',\n",
       " 'nineqstcshn35five',\n",
       " 'eightxndstksjj9xvmkhxgkqtwo4',\n",
       " 'fivek5xhqzvtplmczd35',\n",
       " 'zjsjmxmxeightp24fiveeight',\n",
       " '9sjkjsjqxfnsdgxzmhjzfmbbmj',\n",
       " '92qsbrtfour2onefourone',\n",
       " 'pkgc7sevenl9seven',\n",
       " 'glrkpdfhzddqvbceightpfxdgzm1eight',\n",
       " '39bmsixjbzpkh72lklvgk',\n",
       " '5four7onesevennfglmg',\n",
       " 'two6jvdmxqsthreeprfhq5',\n",
       " 'moneighthkdcpfhfmx8s9',\n",
       " 'twodkcs23fhj5',\n",
       " 'fourkcjdhmzvdbrkgj3onefive',\n",
       " 'mbmjrqlqzml21',\n",
       " 'threexmlgkxxms4rdrlcmlvx77',\n",
       " '3mkjlxlkknfour',\n",
       " '3four9',\n",
       " '65ffd91',\n",
       " 'vxnxs8eightpl2three1mgdcrmfive',\n",
       " 'lnjkchzljjbznbdtxtgfnsevenone2ztxvtfzlbtwo',\n",
       " '8eightoneightjb',\n",
       " 'qxxndbsfxpcmxdfrmzfkdvfvjplq6onetwo',\n",
       " '36gjbxrllone4',\n",
       " 'rvljbxpglgpvxgq72',\n",
       " '35ct69hzsgsb',\n",
       " 'six6sixzgxsfdkjtwo2drtbnine',\n",
       " 'ggdvhnngklthreezfqbzzbninephdhcgzvnine7csbq',\n",
       " '54twofive19five4',\n",
       " 'bjeight4four',\n",
       " '52mfcnnrhblfiveoneonelmdzg',\n",
       " 'ninebsj2lfx4gfsqrfsglx2eight9',\n",
       " '3859csvhpkkksgpqnx22six',\n",
       " '2onehdhqsndjrgspctkgjlnine7shxpd8hmlvdvsvqf',\n",
       " 'four5five6hkchns',\n",
       " 'fivetwofourgvthree9zxtrxf',\n",
       " 'onettmrcxbgfdpj99sixsix',\n",
       " 'onelqdmkfvxg4fourgvcqbtgqs',\n",
       " 'onehgrsfivedslxgxd19',\n",
       " 'eightxjf12sevenlsmglqrzrtpm4',\n",
       " 'vgppbqnskvpfivefivetqxlkbp3two',\n",
       " 'pkeightwopkz8rgtqhrhrjdmht3mz5',\n",
       " 'bbghbl9eightxcmftpndfive',\n",
       " 'oneseven2nxrcseven',\n",
       " 'fourthreefour5',\n",
       " '53zsvpqnrjtwo5nine5nrdvmg',\n",
       " 'eight78twoone',\n",
       " 'bc6nf4zgnmkbnjts',\n",
       " 'xeightwopbgt7two',\n",
       " 'hqsnjjlbfivetwo84threepnine',\n",
       " 'br7oneeight2',\n",
       " 'ckxbsdjjttbxczfdpzmrxfh32eight',\n",
       " '5212j912',\n",
       " '1qhtwo3three9eight2nnjpbl',\n",
       " 'kdxx5five2ninebrvfzbbxptsccvdjgp',\n",
       " 'sixfpslbrfmqfvjs8seven',\n",
       " '45qbcvqcjk6ninesix',\n",
       " '98nine8',\n",
       " '2eightonekcfvzfonethreenpxdpqtnvj',\n",
       " 'two87',\n",
       " 'jqnzhnzsdgg3eightfournbgsdxbfg31xrnv',\n",
       " '4three3sxvnnzqvhcxj9',\n",
       " 'mpjmgpmninekffbkgprkb9tzzdznine8rtq',\n",
       " 'xhpfptdmpkeightdkqvpzscx7jndgsxxtqh',\n",
       " '17vvktdvdgpthreeone1gqnb',\n",
       " 'fzpbhtmdvseven2one',\n",
       " 'sixzkkbjmnxnxm3gcvpsddqqgzktp63h',\n",
       " 'nineonexkqkfszg8qdzrlqszpltwo9cseven',\n",
       " '7xfhtdfdldzplmrfivegpkgfseventwo',\n",
       " 'xvone5two7',\n",
       " 'fiveqdrgeightvrvtmtvvmnl2kbctwofive',\n",
       " 'three9rrxhddsdfive577',\n",
       " 'mnkltgsgs4fivefivekxzzhjdtnzzvmvxdh',\n",
       " 'blqtmklmkxcjtmxsrflffpzjcrninecd7rgdn8',\n",
       " 'jgpktmfourdxzll8threerlssqvslnb',\n",
       " '4grvtbmlpqxgmzzksfgzvjggsqhffq1qcd',\n",
       " 'cninebtfvxfnmbtznfnzdh4zdmgtvbbnine',\n",
       " '1seven4vkvqcktfourvjtd4zqh',\n",
       " '8eight7lhmx89four',\n",
       " 'xrpxkdrf8fhl29fivexzsrdbmksixpvlk',\n",
       " '8tvfplhxxxzr',\n",
       " 'twothree8nine2ninegfbrchxmmfive',\n",
       " '9threeskhgsnsvvzpnnv2seven4',\n",
       " '8sbzvncqszzdflznpqfddeight3',\n",
       " '1eightzfivehlmhnqbnnr',\n",
       " 'sixfivefjfqftjvcdzkpbkhnvqrqqhpvmgnq75pfk',\n",
       " 'mtfvjbbpdeight1',\n",
       " 'txtfqxvbrnine2',\n",
       " 'sevenptvlbpkdzpp8tnlvkdjjpbt',\n",
       " 'qgoneighteighttgrdmljtzbblrtskvfivevbbp1',\n",
       " 'ninethreejbxseven392',\n",
       " '86pbrnhhhpn',\n",
       " 'sevenonenine5bcqrttts6fourthree',\n",
       " '4seventwo5ngnbkqftzdfive4lhsthree',\n",
       " '36seven97klhbqbpgninerb',\n",
       " '813eight',\n",
       " 'ncbfctqlsnfive1brqpthree4',\n",
       " 'ksbsddjcknsevensix293three',\n",
       " 'rljzzbvd3zkmbpjt9eightninesnlrsone',\n",
       " '97ninesevenrhchvppnztvfbfpkzrbcone',\n",
       " 'sevendxbninefour2fourclmln',\n",
       " '1rdtwofjvdllht5eightsixfourbl']"
      ]
     },
     "execution_count": 159,
     "metadata": {},
     "output_type": "execute_result"
    }
   ],
   "source": [
    "input_lines"
   ]
  },
  {
   "cell_type": "code",
   "execution_count": 200,
   "id": "7f9f6a47",
   "metadata": {},
   "outputs": [],
   "source": [
    "small_example = ['two1nine',\n",
    "'8eightwothree3',\n",
    "'abcone2threexyz',\n",
    "'xtwone3four',\n",
    "'4nineeightseven2',\n",
    "'zoneight234',\n",
    "'7pqrstsixteen',\n",
    "'abcthreedf'\n",
    "                \n",
    "                ]"
   ]
  },
  {
   "cell_type": "code",
   "execution_count": 171,
   "id": "614bcdc3",
   "metadata": {},
   "outputs": [
    {
     "data": {
      "text/plain": [
       "3"
      ]
     },
     "execution_count": 171,
     "metadata": {},
     "output_type": "execute_result"
    }
   ],
   "source": [
    "re.search(r\"\\d\", 'two1nine').start()"
   ]
  },
  {
   "cell_type": "code",
   "execution_count": null,
   "id": "9ca3fc62",
   "metadata": {},
   "outputs": [],
   "source": [
    "[(m.start(0), m.end(0)) for m in re.finditer('|'.join(valid_digits), a)][-1][0]"
   ]
  },
  {
   "cell_type": "code",
   "execution_count": 196,
   "id": "92fc2481",
   "metadata": {},
   "outputs": [
    {
     "data": {
      "text/plain": [
       "[(3, 6), (15, 20), (20, 23), (23, 27)]"
      ]
     },
     "execution_count": 196,
     "metadata": {},
     "output_type": "execute_result"
    }
   ],
   "source": [
    "[(m.start(0), m.end(0)) for m in re.finditer('|'.join(valid_digits), a)]"
   ]
  },
  {
   "cell_type": "code",
   "execution_count": null,
   "id": "b6e57387",
   "metadata": {},
   "outputs": [],
   "source": [
    "[(m.start(0), m.end(0)) for m in re.finditer('|'.join(valid_digits), a)][-1][0]"
   ]
  },
  {
   "cell_type": "code",
   "execution_count": 227,
   "id": "8b8d2727",
   "metadata": {},
   "outputs": [
    {
     "data": {
      "text/plain": [
       "['7fiveonedzbmblrtqfoneightkc']"
      ]
     },
     "execution_count": 227,
     "metadata": {},
     "output_type": "execute_result"
    }
   ],
   "source": [
    "input_lines[162:163]"
   ]
  },
  {
   "cell_type": "code",
   "execution_count": 231,
   "id": "47207fb3",
   "metadata": {},
   "outputs": [
    {
     "data": {
      "text/plain": [
       "['one', 'two', 'three', 'four', 'five', 'six', 'seven', 'eight', 'nine']"
      ]
     },
     "execution_count": 231,
     "metadata": {},
     "output_type": "execute_result"
    }
   ],
   "source": [
    "valid_digits"
   ]
  },
  {
   "cell_type": "code",
   "execution_count": 240,
   "id": "60d06dc6",
   "metadata": {},
   "outputs": [
    {
     "data": {
      "text/plain": [
       "'one|two|three|four|five|six|seven|eight|nine'"
      ]
     },
     "execution_count": 240,
     "metadata": {},
     "output_type": "execute_result"
    }
   ],
   "source": [
    "pattern = '|'.join(valid_digits)\n",
    "pattern"
   ]
  },
  {
   "cell_type": "code",
   "execution_count": 243,
   "id": "155d0ec1",
   "metadata": {},
   "outputs": [
    {
     "data": {
      "text/plain": [
       "['five', 'one', 'one', 'eight']"
      ]
     },
     "execution_count": 243,
     "metadata": {},
     "output_type": "execute_result"
    }
   ],
   "source": [
    "re.findall(f\"(?=({pattern}))\", input_lines[162:163][0])"
   ]
  },
  {
   "cell_type": "code",
   "execution_count": 262,
   "id": "fa78420c",
   "metadata": {},
   "outputs": [
    {
     "data": {
      "text/plain": [
       "'7fiveonedzbmblrtqfoneightkc'"
      ]
     },
     "execution_count": 262,
     "metadata": {},
     "output_type": "execute_result"
    }
   ],
   "source": [
    "input_lines[162:163][0]"
   ]
  },
  {
   "cell_type": "code",
   "execution_count": 264,
   "id": "de02a199",
   "metadata": {},
   "outputs": [
    {
     "data": {
      "text/plain": [
       "['five', 'one', 'one', 'eight']"
      ]
     },
     "execution_count": 264,
     "metadata": {},
     "output_type": "execute_result"
    }
   ],
   "source": [
    "re.findall(f\"(?=({pattern}))\", input_lines[162:163][0])"
   ]
  },
  {
   "cell_type": "code",
   "execution_count": 255,
   "id": "8a872dfc",
   "metadata": {},
   "outputs": [
    {
     "ename": "TypeError",
     "evalue": "unhashable type: 'list'",
     "output_type": "error",
     "traceback": [
      "\u001b[1;31m---------------------------------------------------------------------------\u001b[0m",
      "\u001b[1;31mTypeError\u001b[0m                                 Traceback (most recent call last)",
      "Cell \u001b[1;32mIn[255], line 22\u001b[0m\n\u001b[0;32m     19\u001b[0m     value1 \u001b[38;5;241m=\u001b[39m a[pos_of_dig_1]\n\u001b[0;32m     21\u001b[0m \u001b[38;5;28;01melse\u001b[39;00m:\n\u001b[1;32m---> 22\u001b[0m     value1 \u001b[38;5;241m=\u001b[39m digits_dict[tex_1]           \n\u001b[0;32m     24\u001b[0m pos_of_dig_2 \u001b[38;5;241m=\u001b[39m re\u001b[38;5;241m.\u001b[39msearch(\u001b[38;5;124mr\u001b[39m\u001b[38;5;124m\"\u001b[39m\u001b[38;5;124m(\u001b[39m\u001b[38;5;124m\\\u001b[39m\u001b[38;5;124md)[^\u001b[39m\u001b[38;5;124m\\\u001b[39m\u001b[38;5;124md]*$\u001b[39m\u001b[38;5;124m\"\u001b[39m, a)\u001b[38;5;241m.\u001b[39mstart()\n\u001b[0;32m     26\u001b[0m \u001b[38;5;28;01mtry\u001b[39;00m:\n",
      "\u001b[1;31mTypeError\u001b[0m: unhashable type: 'list'"
     ]
    }
   ],
   "source": [
    "sum_value = 0 \n",
    "\n",
    "for a in input_lines:\n",
    "    pos_of_dig_1 = re.search(r\"\\d\", a).start()\n",
    "    \n",
    "    try:\n",
    "        #pos_of_tex_1 = re.search('|'.join(valid_digits), a).start()\n",
    "        \n",
    "        pattern = '|'.join(valid_digits)\n",
    "        \n",
    "        pos_of_tex_1 = re.search(f\"(?=({pattern}))\", a).start()\n",
    "        tex_1 = re.findall(f\"(?=({pattern}))\", a[0])\n",
    "    except:\n",
    "        pos_of_tex_1 = 1e6\n",
    "        #print(\"qwewe\")\n",
    "    \n",
    "    \n",
    "    if (pos_of_dig_1 < pos_of_tex_1)&(len(tex_1)!=0):\n",
    "        value1 = a[pos_of_dig_1]\n",
    "                     \n",
    "    else:\n",
    "        value1 = digits_dict[tex_1]           \n",
    "                       \n",
    "    pos_of_dig_2 = re.search(r\"(\\d)[^\\d]*$\", a).start()\n",
    "   \n",
    "    try:\n",
    "        pos_of_tex_2 = [(m.start(0), m.end(0)) for m in re.finditer(f\"(?=({pattern}))\", a)][-1][0]\n",
    "        tex_2 = re.findall(f\"(?=({pattern}))\", a)[-1]\n",
    "    except:\n",
    "        pos_of_tex_2 = -1e6\n",
    "                     \n",
    "    if pos_of_dig_2 > pos_of_tex_2:\n",
    "        value2 = a[pos_of_dig_2]\n",
    "    else:\n",
    "        value2 = digits_dict[tex_2] \n",
    "                     \n",
    "    sum_value = sum_value + int(value1 + value2)\n",
    "    #print(value1,value2)\n",
    "    print(a,value1,value2)\n",
    "    \n",
    "sum_value"
   ]
  },
  {
   "cell_type": "code",
   "execution_count": 273,
   "id": "06036230",
   "metadata": {},
   "outputs": [],
   "source": [
    "# part two \n",
    "valid_digits = ['one','two','three','four','five','six','seven','eight','nine','\\d']"
   ]
  },
  {
   "cell_type": "code",
   "execution_count": 274,
   "id": "c8946927",
   "metadata": {},
   "outputs": [
    {
     "data": {
      "text/plain": [
       "'one|two|three|four|five|six|seven|eight|nine|\\\\d'"
      ]
     },
     "execution_count": 274,
     "metadata": {},
     "output_type": "execute_result"
    }
   ],
   "source": [
    "pattern = '|'.join(valid_digits) \n",
    "pattern"
   ]
  },
  {
   "cell_type": "code",
   "execution_count": 278,
   "id": "8161e0e3",
   "metadata": {},
   "outputs": [
    {
     "data": {
      "text/plain": [
       "'7fiveonedzbmblrtqfoneightkc'"
      ]
     },
     "execution_count": 278,
     "metadata": {},
     "output_type": "execute_result"
    }
   ],
   "source": [
    "input_lines[162:163][0]"
   ]
  },
  {
   "cell_type": "code",
   "execution_count": 293,
   "id": "31bebc6c",
   "metadata": {},
   "outputs": [
    {
     "data": {
      "text/plain": [
       "['7', 'five', 'one', 'one', 'eight']"
      ]
     },
     "execution_count": 293,
     "metadata": {},
     "output_type": "execute_result"
    }
   ],
   "source": [
    "a = input_lines[162:163][0]\n",
    "re.findall(f\"(?=({pattern}))\", a)"
   ]
  },
  {
   "cell_type": "code",
   "execution_count": 295,
   "id": "7c158249",
   "metadata": {},
   "outputs": [
    {
     "data": {
      "text/plain": [
       "7"
      ]
     },
     "execution_count": 295,
     "metadata": {},
     "output_type": "execute_result"
    }
   ],
   "source": [
    "int(re.findall(f\"(?=({pattern}))\", a)[0])"
   ]
  },
  {
   "cell_type": "code",
   "execution_count": 296,
   "id": "f76c5d9d",
   "metadata": {},
   "outputs": [
    {
     "ename": "ValueError",
     "evalue": "invalid literal for int() with base 10: 'eight'",
     "output_type": "error",
     "traceback": [
      "\u001b[1;31m---------------------------------------------------------------------------\u001b[0m",
      "\u001b[1;31mValueError\u001b[0m                                Traceback (most recent call last)",
      "Cell \u001b[1;32mIn[296], line 1\u001b[0m\n\u001b[1;32m----> 1\u001b[0m \u001b[38;5;28mint\u001b[39m(re\u001b[38;5;241m.\u001b[39mfindall(\u001b[38;5;124mf\u001b[39m\u001b[38;5;124m\"\u001b[39m\u001b[38;5;124m(?=(\u001b[39m\u001b[38;5;132;01m{\u001b[39;00mpattern\u001b[38;5;132;01m}\u001b[39;00m\u001b[38;5;124m))\u001b[39m\u001b[38;5;124m\"\u001b[39m, a)[\u001b[38;5;241m-\u001b[39m\u001b[38;5;241m1\u001b[39m])\n",
      "\u001b[1;31mValueError\u001b[0m: invalid literal for int() with base 10: 'eight'"
     ]
    }
   ],
   "source": [
    "int(re.findall(f\"(?=({pattern}))\", a)[-1])"
   ]
  },
  {
   "cell_type": "code",
   "execution_count": 297,
   "id": "2074a234",
   "metadata": {},
   "outputs": [
    {
     "data": {
      "text/plain": [
       "8"
      ]
     },
     "execution_count": 297,
     "metadata": {},
     "output_type": "execute_result"
    }
   ],
   "source": [
    "int(digits_dict[re.findall(f\"(?=({pattern}))\", a)[-1]])"
   ]
  },
  {
   "cell_type": "code",
   "execution_count": 283,
   "id": "6102581b",
   "metadata": {},
   "outputs": [
    {
     "data": {
      "text/plain": [
       "8"
      ]
     },
     "execution_count": 283,
     "metadata": {},
     "output_type": "execute_result"
    }
   ],
   "source": [
    "int(digits_dict[re.findall(f\"(?=({pattern}))\", input_lines[162:163][0])[-1]])"
   ]
  },
  {
   "cell_type": "code",
   "execution_count": 288,
   "id": "79543843",
   "metadata": {},
   "outputs": [
    {
     "data": {
      "text/plain": [
       "'fivethreeonezblqnsfk1'"
      ]
     },
     "execution_count": 288,
     "metadata": {},
     "output_type": "execute_result"
    }
   ],
   "source": [
    "a"
   ]
  },
  {
   "cell_type": "code",
   "execution_count": 298,
   "id": "06bab264",
   "metadata": {},
   "outputs": [
    {
     "data": {
      "text/plain": [
       "55652"
      ]
     },
     "execution_count": 298,
     "metadata": {},
     "output_type": "execute_result"
    }
   ],
   "source": [
    "sum_value = 0 \n",
    "\n",
    "for a in input_lines:\n",
    "    \n",
    "    first_value = re.findall(f\"(?=({pattern}))\", a)[0]\n",
    "    last_value = re.findall(f\"(?=({pattern}))\", a)[-1]\n",
    "    \n",
    "    try:\n",
    "        value1 = int(first_value)\n",
    "    except:\n",
    "        value1 = int(digits_dict[first_value])\n",
    "        \n",
    "        \n",
    "    try:\n",
    "        value2 = int(last_value)\n",
    "    except:\n",
    "        value2 = int(digits_dict[last_value])\n",
    "    \n",
    "    sum_value = sum_value + int(str(value1)+str(value2))\n",
    "    \n",
    "sum_value"
   ]
  }
 ],
 "metadata": {
  "kernelspec": {
   "display_name": "Python 3 (ipykernel)",
   "language": "python",
   "name": "python3"
  },
  "language_info": {
   "codemirror_mode": {
    "name": "ipython",
    "version": 3
   },
   "file_extension": ".py",
   "mimetype": "text/x-python",
   "name": "python",
   "nbconvert_exporter": "python",
   "pygments_lexer": "ipython3",
   "version": "3.11.5"
  }
 },
 "nbformat": 4,
 "nbformat_minor": 5
}
