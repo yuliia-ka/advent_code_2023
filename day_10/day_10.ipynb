{
 "cells": [
  {
   "cell_type": "code",
   "execution_count": 6,
   "metadata": {},
   "outputs": [
    {
     "data": {
      "text/plain": [
       "['7-F7-', '.FJ|7', 'SJLL7', '|F--J', 'LJ.LJ']"
      ]
     },
     "execution_count": 6,
     "metadata": {},
     "output_type": "execute_result"
    }
   ],
   "source": [
    "import numpy as np\n",
    "with open('small_input.txt') as f:\n",
    "    input_lines = f.readlines()\n",
    "\n",
    "input_lines = [a.replace('\\n','') for a in input_lines ]\n",
    "\n",
    "input_lines[:10]"
   ]
  },
  {
   "cell_type": "code",
   "execution_count": 7,
   "metadata": {},
   "outputs": [
    {
     "data": {
      "text/plain": [
       "[['7', '-', 'F', '7', '-'],\n",
       " ['.', 'F', 'J', '|', '7'],\n",
       " ['S', 'J', 'L', 'L', '7'],\n",
       " ['|', 'F', '-', '-', 'J'],\n",
       " ['L', 'J', '.', 'L', 'J']]"
      ]
     },
     "execution_count": 7,
     "metadata": {},
     "output_type": "execute_result"
    }
   ],
   "source": [
    "input_lines_mod = [list(a) for a in input_lines]\n",
    "input_lines_mod"
   ]
  },
  {
   "cell_type": "code",
   "execution_count": 8,
   "metadata": {},
   "outputs": [],
   "source": [
    "dict_map = {'S':'O',\n",
    "            '.':'.',\n",
    "            '|':'|',\n",
    "            '-':'―',\n",
    "            'L':'└',\n",
    "            'J':'┘',\n",
    "            '7':'┐',\n",
    "            'F':'┌'}"
   ]
  },
  {
   "cell_type": "code",
   "execution_count": 10,
   "metadata": {},
   "outputs": [
    {
     "data": {
      "text/plain": [
       "array([['┐', '―', '┌', '┐', '―'],\n",
       "       ['.', '┌', '┘', '|', '┐'],\n",
       "       ['O', '┘', '└', '└', '┐'],\n",
       "       ['|', '┌', '―', '―', '┘'],\n",
       "       ['└', '┘', '.', '└', '┘']], dtype='<U1')"
      ]
     },
     "execution_count": 10,
     "metadata": {},
     "output_type": "execute_result"
    }
   ],
   "source": [
    "input_array = np.vectorize(dict_map.get)(input_lines_mod)\n",
    "input_array"
   ]
  },
  {
   "cell_type": "code",
   "execution_count": 31,
   "metadata": {},
   "outputs": [
    {
     "data": {
      "text/plain": [
       "(2, 0)"
      ]
     },
     "execution_count": 31,
     "metadata": {},
     "output_type": "execute_result"
    }
   ],
   "source": [
    "start = np.where(input_array == 'O')\n",
    "start = start[0][0],start[1][0]\n",
    "start"
   ]
  },
  {
   "cell_type": "code",
   "execution_count": 28,
   "metadata": {},
   "outputs": [
    {
     "name": "stdout",
     "output_type": "stream",
     "text": [
      "(3, 0) (2, 1)\n"
     ]
    }
   ],
   "source": [
    "init_pos = [(2,1),(3,0)]\n",
    "\n",
    "import random\n",
    "loop_start = random.choice(init_pos)\n",
    "#loop_end = init_pos.remove(loop_start).copy()\n",
    "loop_end = [n for n in init_pos if n != loop_start][0]\n",
    "print(loop_start,loop_end)\n"
   ]
  },
  {
   "cell_type": "code",
   "execution_count": null,
   "metadata": {},
   "outputs": [],
   "source": [
    "dict_map = {'S':'O',\n",
    "            '.':'.',\n",
    "            '|':'|',\n",
    "            '-':'―',\n",
    "            'L':'└',\n",
    "            'J':'┘',\n",
    "            '7':'┐',\n",
    "            'F':'┌'}"
   ]
  },
  {
   "cell_type": "code",
   "execution_count": 29,
   "metadata": {},
   "outputs": [],
   "source": [
    "# function for next step\n",
    "def next_step(arr,curr_coor,prev_coor):\n",
    "\n",
    "    curr_elem = arr[curr_coor]\n",
    "    curr_coor_row = curr_coor[0]\n",
    "    curr_coor_col = curr_coor[1]\n",
    "\n",
    "    if curr_elem == '|':\n",
    "        next_step = [(curr_coor_row+1,curr_coor_col),(curr_coor_row-1,curr_coor_col)]\n",
    "\n",
    "    if curr_elem == '―':\n",
    "        next_step = [(curr_coor_row,curr_coor_col+1),(curr_coor_row,curr_coor_col-1)]\n",
    "\n",
    "    if curr_elem == '└':\n",
    "        next_step = [(curr_coor_row,curr_coor_col+1),(curr_coor_row,curr_coor_col)]\n",
    "\n",
    "    if curr_elem == '┘':\n",
    "        next_step = [(curr_coor_row,curr_coor_col),(curr_coor_row,curr_coor_col)]\n",
    "\n",
    "    if curr_elem == '┐':\n",
    "        next_step = [(curr_coor_row,curr_coor_col),(curr_coor_row,curr_coor_col)]\n",
    "\n",
    "    if curr_elem == '┌':\n",
    "        next_step = [(curr_coor_row,curr_coor_col),(curr_coor_row,curr_coor_col)]\n",
    "\n",
    "    next_step = [n for n in next_step if n != (prev_coor[0],prev_coor[1])][0]\n",
    "\n",
    "    return(next_step)"
   ]
  },
  {
   "cell_type": "code",
   "execution_count": 33,
   "metadata": {},
   "outputs": [
    {
     "name": "stdout",
     "output_type": "stream",
     "text": [
      "(3, 0)\n"
     ]
    },
    {
     "data": {
      "text/plain": [
       "(3, 0)"
      ]
     },
     "execution_count": 33,
     "metadata": {},
     "output_type": "execute_result"
    }
   ],
   "source": [
    "print(loop_start)\n",
    "next_step(input_array,loop_start,start)"
   ]
  }
 ],
 "metadata": {
  "kernelspec": {
   "display_name": "Python 3",
   "language": "python",
   "name": "python3"
  },
  "language_info": {
   "codemirror_mode": {
    "name": "ipython",
    "version": 3
   },
   "file_extension": ".py",
   "mimetype": "text/x-python",
   "name": "python",
   "nbconvert_exporter": "python",
   "pygments_lexer": "ipython3",
   "version": "3.11.7"
  }
 },
 "nbformat": 4,
 "nbformat_minor": 2
}
