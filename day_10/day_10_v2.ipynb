{
 "cells": [
  {
   "cell_type": "code",
   "execution_count": 64,
   "metadata": {},
   "outputs": [
    {
     "data": {
      "text/plain": [
       "array([['7-F7-'],\n",
       "       ['.FJ|7'],\n",
       "       ['SJLL7'],\n",
       "       ['|F--J'],\n",
       "       ['LJ.LJ']], dtype='<U5')"
      ]
     },
     "execution_count": 64,
     "metadata": {},
     "output_type": "execute_result"
    }
   ],
   "source": [
    "import numpy as np\n",
    "with open('small_input.txt') as f:\n",
    "    input_lines = np.array([line.strip().split('\\n') for line in f])\n",
    "\n",
    "#[[list(b) for b in a] for a in input_lines]\n",
    "input_lines"
   ]
  },
  {
   "cell_type": "code",
   "execution_count": 65,
   "metadata": {},
   "outputs": [
    {
     "data": {
      "text/plain": [
       "array([['7', '-', 'F', '7', '-'],\n",
       "       ['.', 'F', 'J', '|', '7'],\n",
       "       ['S', 'J', 'L', 'L', '7'],\n",
       "       ['|', 'F', '-', '-', 'J'],\n",
       "       ['L', 'J', '.', 'L', 'J']], dtype='<U1')"
      ]
     },
     "execution_count": 65,
     "metadata": {},
     "output_type": "execute_result"
    }
   ],
   "source": [
    "from itertools import chain\n",
    "A = [[list(b) for b in a] for a in input_lines]\n",
    "# Ci: is there a better way than to unnest like this?\n",
    "input_array = np.array(list(chain(*A)))\n",
    "input_array"
   ]
  },
  {
   "cell_type": "code",
   "execution_count": 57,
   "metadata": {},
   "outputs": [],
   "source": [
    "#better than this? in place operations - called something else\n",
    "#input_array[input_array=='.'] = ' ' "
   ]
  },
  {
   "cell_type": "code",
   "execution_count": 58,
   "metadata": {},
   "outputs": [
    {
     "data": {
      "text/plain": [
       "array([['7', '-', 'F', '7', '-'],\n",
       "       [' ', 'F', 'J', '|', '7'],\n",
       "       ['S', 'J', 'L', 'L', '7'],\n",
       "       ['|', 'F', '-', '-', 'J'],\n",
       "       ['L', 'J', ' ', 'L', 'J']], dtype='<U1')"
      ]
     },
     "execution_count": 58,
     "metadata": {},
     "output_type": "execute_result"
    }
   ],
   "source": [
    "input_array"
   ]
  },
  {
   "cell_type": "code",
   "execution_count": 66,
   "metadata": {},
   "outputs": [],
   "source": [
    "my_dict = {'7': '┐',\n",
    "            'F':'┌',\n",
    "            'L':'└',\n",
    "            'J':'┘',\n",
    "            '.':' ',\n",
    "            'S':'O',\n",
    "            '-':'―',\n",
    "            '|':'|'}"
   ]
  },
  {
   "cell_type": "code",
   "execution_count": 70,
   "metadata": {},
   "outputs": [],
   "source": [
    "# this one is not in place\n",
    "input_array = np.vectorize(my_dict.get)(input_array)"
   ]
  },
  {
   "cell_type": "code",
   "execution_count": 72,
   "metadata": {},
   "outputs": [
    {
     "data": {
      "text/plain": [
       "array([['┐', '―', '┌', '┐', '―'],\n",
       "       [' ', '┌', '┘', '|', '┐'],\n",
       "       ['O', '┘', '└', '└', '┐'],\n",
       "       ['|', '┌', '―', '―', '┘'],\n",
       "       ['└', '┘', ' ', '└', '┘']], dtype='<U1')"
      ]
     },
     "execution_count": 72,
     "metadata": {},
     "output_type": "execute_result"
    }
   ],
   "source": [
    "input_array"
   ]
  },
  {
   "cell_type": "code",
   "execution_count": 76,
   "metadata": {},
   "outputs": [
    {
     "data": {
      "text/plain": [
       "(2, 0)"
      ]
     },
     "execution_count": 76,
     "metadata": {},
     "output_type": "execute_result"
    }
   ],
   "source": [
    "np.where(input_array == 'O')[0][0], np.where(input_array == 'O')[1][0]"
   ]
  },
  {
   "cell_type": "code",
   "execution_count": 77,
   "metadata": {},
   "outputs": [
    {
     "data": {
      "text/plain": [
       "(2, 1)"
      ]
     },
     "execution_count": 77,
     "metadata": {},
     "output_type": "execute_result"
    }
   ],
   "source": [
    "start_loop = [(3,0),(2,1)]\n",
    "import random\n",
    "\n",
    "randomly_chosen_start = random.choice(start_loop)\n",
    "randomly_chosen_start"
   ]
  },
  {
   "cell_type": "code",
   "execution_count": 80,
   "metadata": {},
   "outputs": [
    {
     "data": {
      "text/plain": [
       "'┘'"
      ]
     },
     "execution_count": 80,
     "metadata": {},
     "output_type": "execute_result"
    }
   ],
   "source": [
    "input_array[randomly_chosen_start]"
   ]
  },
  {
   "cell_type": "code",
   "execution_count": null,
   "metadata": {},
   "outputs": [],
   "source": [
    "my_dict = {'7': '┐',\n",
    "            'F':'┌',\n",
    "            'L':'└',\n",
    "            'J':'┘',\n",
    "            '.':' ',\n",
    "            'S':'O',\n",
    "            '-':'―',\n",
    "            '|':'|'}"
   ]
  },
  {
   "cell_type": "code",
   "execution_count": 81,
   "metadata": {},
   "outputs": [
    {
     "data": {
      "text/plain": [
       "[(2, 1), (0, 1)]"
      ]
     },
     "execution_count": 81,
     "metadata": {},
     "output_type": "execute_result"
    }
   ],
   "source": [
    "x_coor = 1\n",
    "y_coor = 1\n",
    "[(x_coor+1, y_coor),(x_coor-1, y_coor)]"
   ]
  },
  {
   "cell_type": "code",
   "execution_count": 87,
   "metadata": {},
   "outputs": [
    {
     "data": {
      "text/plain": [
       "[(0, 1)]"
      ]
     },
     "execution_count": 87,
     "metadata": {},
     "output_type": "execute_result"
    }
   ],
   "source": [
    "test_list = [(x_coor+1, y_coor),(x_coor-1, y_coor)]\n",
    "test_list.remove(randomly_chosen_start)\n",
    "test_list\n"
   ]
  },
  {
   "cell_type": "code",
   "execution_count": 98,
   "metadata": {},
   "outputs": [
    {
     "data": {
      "text/plain": [
       "(2, 1)"
      ]
     },
     "execution_count": 98,
     "metadata": {},
     "output_type": "execute_result"
    }
   ],
   "source": [
    "loop_basis = np.where(input_array == 'O')[0][0], np.where(input_array == 'O')[1][0]\n",
    "loop_begins = [(3,0),(2,1)]\n",
    "randomly_chosen_start = random.choice(loop_begins)\n",
    "randomly_chosen_start\n"
   ]
  },
  {
   "cell_type": "code",
   "execution_count": 126,
   "metadata": {},
   "outputs": [],
   "source": [
    "def one_step_forward(arr, curr_coor, prev_coor):\n",
    "    \n",
    "    x_coor=curr_coor[0]\n",
    "    y_coor=curr_coor[1]\n",
    "\n",
    "    y_coor_prev = prev_coor[0]\n",
    "    x_coor_prev = prev_coor[1]\n",
    "    \n",
    "    elem_consider = arr[x_coor, y_coor]\n",
    "    \n",
    "    if elem_consider == '―':\n",
    "        next_step = [(y_coor+1, x_coor),(y_coor-1, x_coor)]\n",
    "    if elem_consider == '|':\n",
    "        next_step = [(y_coor, x_coor+1),(y_coor, x_coor-1)]\n",
    "    if elem_consider == '┐':\n",
    "        next_step = [(y_coor, x_coor-1),(y_coor-1, x_coor)]\n",
    "    if elem_consider == '┌':\n",
    "        next_step = [(y_coor, x_coor-1),(y_coor+1, x_coor)]\n",
    "    if elem_consider == '└':\n",
    "        next_step = [(y_coor, x_coor+1),(y_coor+1, x_coor)]\n",
    "    if elem_consider == '┘':\n",
    "        next_step = [(y_coor, x_coor+1),(y_coor-1, x_coor)]\n",
    "\n",
    "    selected_next_step = next_step.remove(prev_coor)\n",
    "\n",
    "    return (selected_next_step)\n",
    "\n"
   ]
  },
  {
   "cell_type": "code",
   "execution_count": 121,
   "metadata": {},
   "outputs": [
    {
     "data": {
      "text/plain": [
       "(2, 1)"
      ]
     },
     "execution_count": 121,
     "metadata": {},
     "output_type": "execute_result"
    }
   ],
   "source": [
    "randomly_chosen_start"
   ]
  },
  {
   "cell_type": "code",
   "execution_count": 120,
   "metadata": {},
   "outputs": [
    {
     "data": {
      "text/plain": [
       "'┘'"
      ]
     },
     "execution_count": 120,
     "metadata": {},
     "output_type": "execute_result"
    }
   ],
   "source": [
    "input_array[randomly_chosen_start]"
   ]
  },
  {
   "cell_type": "code",
   "execution_count": 127,
   "metadata": {},
   "outputs": [
    {
     "ename": "ValueError",
     "evalue": "list.remove(x): x not in list",
     "output_type": "error",
     "traceback": [
      "\u001b[1;31m---------------------------------------------------------------------------\u001b[0m",
      "\u001b[1;31mValueError\u001b[0m                                Traceback (most recent call last)",
      "Cell \u001b[1;32mIn[127], line 1\u001b[0m\n\u001b[1;32m----> 1\u001b[0m \u001b[43mone_step_forward\u001b[49m\u001b[43m(\u001b[49m\u001b[43minput_array\u001b[49m\u001b[43m,\u001b[49m\u001b[43mrandomly_chosen_start\u001b[49m\u001b[43m,\u001b[49m\u001b[43mloop_basis\u001b[49m\u001b[43m)\u001b[49m\n",
      "Cell \u001b[1;32mIn[126], line 24\u001b[0m, in \u001b[0;36mone_step_forward\u001b[1;34m(arr, curr_coor, prev_coor)\u001b[0m\n\u001b[0;32m     21\u001b[0m \u001b[38;5;28;01mif\u001b[39;00m elem_consider \u001b[38;5;241m==\u001b[39m \u001b[38;5;124m'\u001b[39m\u001b[38;5;124m┘\u001b[39m\u001b[38;5;124m'\u001b[39m:\n\u001b[0;32m     22\u001b[0m     next_step \u001b[38;5;241m=\u001b[39m [(y_coor, x_coor\u001b[38;5;241m+\u001b[39m\u001b[38;5;241m1\u001b[39m),(y_coor\u001b[38;5;241m-\u001b[39m\u001b[38;5;241m1\u001b[39m, x_coor)]\n\u001b[1;32m---> 24\u001b[0m selected_next_step \u001b[38;5;241m=\u001b[39m \u001b[43mnext_step\u001b[49m\u001b[38;5;241;43m.\u001b[39;49m\u001b[43mremove\u001b[49m\u001b[43m(\u001b[49m\u001b[43mprev_coor\u001b[49m\u001b[43m)\u001b[49m\n\u001b[0;32m     26\u001b[0m \u001b[38;5;28;01mreturn\u001b[39;00m (selected_next_step)\n",
      "\u001b[1;31mValueError\u001b[0m: list.remove(x): x not in list"
     ]
    }
   ],
   "source": [
    "one_step_forward(input_array,randomly_chosen_start,loop_basis)"
   ]
  },
  {
   "cell_type": "code",
   "execution_count": 113,
   "metadata": {},
   "outputs": [
    {
     "data": {
      "text/plain": [
       "'┘'"
      ]
     },
     "execution_count": 113,
     "metadata": {},
     "output_type": "execute_result"
    }
   ],
   "source": []
  },
  {
   "cell_type": "code",
   "execution_count": 119,
   "metadata": {},
   "outputs": [],
   "source": [
    "x_seq = []\n",
    "y_seq = []"
   ]
  }
 ],
 "metadata": {
  "kernelspec": {
   "display_name": "Python 3",
   "language": "python",
   "name": "python3"
  },
  "language_info": {
   "codemirror_mode": {
    "name": "ipython",
    "version": 3
   },
   "file_extension": ".py",
   "mimetype": "text/x-python",
   "name": "python",
   "nbconvert_exporter": "python",
   "pygments_lexer": "ipython3",
   "version": "3.11.7"
  }
 },
 "nbformat": 4,
 "nbformat_minor": 2
}
